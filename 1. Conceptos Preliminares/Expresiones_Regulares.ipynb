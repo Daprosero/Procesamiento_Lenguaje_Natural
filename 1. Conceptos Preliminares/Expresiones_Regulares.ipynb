{
  "nbformat": 4,
  "nbformat_minor": 0,
  "metadata": {
    "colab": {
      "provenance": [],
      "include_colab_link": true
    },
    "kernelspec": {
      "name": "python3",
      "display_name": "Python 3"
    },
    "language_info": {
      "name": "python"
    }
  },
  "cells": [
    {
      "cell_type": "markdown",
      "metadata": {
        "id": "view-in-github",
        "colab_type": "text"
      },
      "source": [
        "<a href=\"https://colab.research.google.com/github/Daprosero/Procesamiento_Lenguaje_Natural/blob/main/1.%20Conceptos%20Preliminares/Expresiones_Regulares.ipynb\" target=\"_parent\"><img src=\"https://colab.research.google.com/assets/colab-badge.svg\" alt=\"Open In Colab\"/></a>"
      ]
    },
    {
      "cell_type": "markdown",
      "source": [
        "![Logo UNAL CHEC](https://www.funcionpublica.gov.co/documents/d/guest/logo-universidad-nacional)\n",
        "\n",
        "\n",
        "\n",
        "# **Procesamiento de Lenguaje Natural (NLP)**\n",
        "### Departamento de Ingeniería Eléctrica, Electrónica y Computación\n",
        "#### Universidad Nacional de Colombia - Sede Manizales\n",
        "\n",
        "#### Profesor: Diego A. Pérez"
      ],
      "metadata": {
        "id": "Uc7TgbY_tbfV"
      }
    },
    {
      "cell_type": "markdown",
      "metadata": {
        "id": "iMkwF9FETyec"
      },
      "source": [
        "**Expresión regular:**\n",
        "Una expresión regular es un patrón que describe un conjunto de cadenas de texto.\n",
        "\n",
        "\\text{regex} = [0-9]{3}-[0-9]{2}-[0-9]{4}\n",
        "\n",
        "Este patrón coincide con un número de la forma `123-45-6789`.\n"
      ]
    },
    {
      "cell_type": "code",
      "execution_count": null,
      "metadata": {
        "id": "ab1mrdcVwrrA"
      },
      "outputs": [],
      "source": [
        "import re # Librería para trabajar con expresiones regulares\n",
        "import pandas as pd # Librería para trabajar con DataFrames"
      ]
    },
    {
      "cell_type": "code",
      "execution_count": null,
      "metadata": {
        "id": "IxKkd__WwrrD"
      },
      "outputs": [],
      "source": [
        "texto = \"\"\"(Jefe de los Minisupers) 14'49'' Podéis hacerme tres preguntas.\n",
        "(Apu) 14'58'' Qué bueno, porque sólo necesito una.\n",
        "(Homer) 15'05'' ¿Usted es el Jefe de los Minisupers?\n",
        "(Jefe de los Minisupers) 15'13'' Así es.\n",
        "(Homer) 15'22'' ¿Usted?\n",
        "(Jefe de los Minisupers) 15'38'' Así es.\n",
        "(Homer) 15'41'' ¿Está seguro?\n",
        "(Jefe de los Minisupers) 16' Sí. Espero que los haya iluminado.\n",
        "(Apu) 16'11'' Pero tengo que...\n",
        "(Jefe de los Minisupers) 16'2'' Gracias. Vuelva pronto.\n",
        "(Apu) 16'29'' Pero.\n",
        "(Jefe de los Minisupers) 16'33'' Graciaaaaas. Vuelva pronto.\"\"\""
      ]
    },
    {
      "cell_type": "code",
      "execution_count": null,
      "metadata": {
        "id": "kEZ-8_Q9wrrF",
        "outputId": "c5c1e410-86bd-44cd-b68d-6468535af811",
        "colab": {
          "base_uri": "https://localhost:8080/"
        }
      },
      "outputs": [
        {
          "output_type": "stream",
          "name": "stdout",
          "text": [
            "(Jefe de los Minisupers) 14'49'' Podéis hacerme tres preguntas.\n",
            "(Apu) 14'58'' Qué bueno, porque sólo necesito una.\n",
            "(Homer) 15'05'' ¿Usted es el Jefe de los Minisupers?\n",
            "(Jefe de los Minisupers) 15'13'' Así es.\n",
            "(Homer) 15'22'' ¿Usted?\n",
            "(Jefe de los Minisupers) 15'38'' Así es.\n",
            "(Homer) 15'41'' ¿Está seguro?\n",
            "(Jefe de los Minisupers) 16' Sí. Espero que los haya iluminado.\n",
            "(Apu) 16'11'' Pero tengo que...\n",
            "(Jefe de los Minisupers) 16'2'' Gracias. Vuelva pronto.\n",
            "(Apu) 16'29'' Pero.\n",
            "(Jefe de los Minisupers) 16'33'' Graciaaaaas. Vuelva pronto.\n"
          ]
        }
      ],
      "source": [
        "print(texto)"
      ]
    },
    {
      "cell_type": "markdown",
      "source": [
        "**Ahora busquemos cómo saber si la frase está en el texto.**\n",
        "\n",
        "El siguiente bloque revisa si aparece la frase buscada.  \n",
        "- Si la encuentra, muestra la frase exacta y la posición donde está dentro del texto.  \n",
        "- Si no aparece, avisa que no está.\n"
      ],
      "metadata": {
        "id": "KiFbTvkiJuNO"
      }
    },
    {
      "cell_type": "code",
      "execution_count": null,
      "metadata": {
        "id": "U5hB4eSOwrrG",
        "outputId": "54fd0bd8-fc67-474a-a997-012c923b9cef",
        "colab": {
          "base_uri": "https://localhost:8080/"
        }
      },
      "outputs": [
        {
          "output_type": "execute_result",
          "data": {
            "text/plain": [
              "<re.Match object; span=(432, 454), match='Gracias. Vuelva pronto'>"
            ]
          },
          "metadata": {},
          "execution_count": 6
        }
      ],
      "source": [
        "# re.search() busca el patron de la expresion regular y devuelve un objeto si lo encuentra\n",
        "match = re.search(r\"Gracias. Vuelva pronto\", texto)\n",
        "match"
      ]
    },
    {
      "cell_type": "code",
      "execution_count": null,
      "metadata": {
        "id": "3NunFZQ2wrrJ",
        "outputId": "cbb15d48-71c9-49cb-91c0-c465b796c863",
        "colab": {
          "base_uri": "https://localhost:8080/"
        }
      },
      "outputs": [
        {
          "output_type": "stream",
          "name": "stdout",
          "text": [
            "El primer matcheo es: Gracias. Vuelva pronto\n",
            "El rango de los indices es: (432, 454)\n"
          ]
        }
      ],
      "source": [
        "# el \"if\" testea si re.search() encontró el patrón;\n",
        "# match.group() devuelve el primer matcheo\n",
        "# match.span() el rango de sus indices\n",
        "if match:\n",
        "    print(\"El primer matcheo es:\",match.group())\n",
        "    print(\"El rango de los indices es:\",match.span())\n",
        "else:\n",
        "    print(\"El patron NO esta en el texto\")"
      ]
    },
    {
      "cell_type": "code",
      "source": [
        "texto[432:454]"
      ],
      "metadata": {
        "colab": {
          "base_uri": "https://localhost:8080/",
          "height": 35
        },
        "id": "311Rg5ygGLJz",
        "outputId": "958307f2-7b63-4b27-d3c0-0a79dbe661d7"
      },
      "execution_count": null,
      "outputs": [
        {
          "output_type": "execute_result",
          "data": {
            "text/plain": [
              "'Gracias. Vuelva pronto'"
            ],
            "application/vnd.google.colaboratory.intrinsic+json": {
              "type": "string"
            }
          },
          "metadata": {},
          "execution_count": 7
        }
      ]
    },
    {
      "cell_type": "code",
      "source": [
        "texto[match.span()[0]:match.span()[1]]"
      ],
      "metadata": {
        "colab": {
          "base_uri": "https://localhost:8080/",
          "height": 35
        },
        "id": "kipWIrRuDq4T",
        "outputId": "0a77dd29-21e4-4500-d1c1-4ddc9a666079"
      },
      "execution_count": null,
      "outputs": [
        {
          "output_type": "execute_result",
          "data": {
            "text/plain": [
              "'Gracias. Vuelva pronto'"
            ],
            "application/vnd.google.colaboratory.intrinsic+json": {
              "type": "string"
            }
          },
          "metadata": {},
          "execution_count": 56
        }
      ]
    },
    {
      "cell_type": "markdown",
      "source": [
        "**Ahora veamos cómo encontrar varias coincidencias dentro de un texto.**\n",
        "\n",
        "Con `re.findall()` podemos buscar **todas las frases o patrones** que aparezcan, no solo la primera.\n"
      ],
      "metadata": {
        "id": "BVyAgVM-Jlsi"
      }
    },
    {
      "cell_type": "code",
      "source": [
        "# Encuentra todas las veces que aparece la frase (aunque se repita)\n",
        "#Gracias,Graaaaaacias,Graciiiiiiias,Graciaaaaaaas,\n",
        "re.findall(r\"Gra+ci+a+s. Vu+e+lva+ pronto+\", texto)\n"
      ],
      "metadata": {
        "colab": {
          "base_uri": "https://localhost:8080/"
        },
        "id": "6a8fHBFYM70T",
        "outputId": "ef3ec757-f14b-4834-9e47-fbbb1c360800"
      },
      "execution_count": null,
      "outputs": [
        {
          "output_type": "execute_result",
          "data": {
            "text/plain": [
              "['Gracias. Vuelva pronto', 'Graciaaaaas. Vuelva pronto']"
            ]
          },
          "metadata": {},
          "execution_count": 9
        }
      ]
    },
    {
      "cell_type": "markdown",
      "source": [
        "**También podemos buscar números en cierto formato.**\n",
        "\n",
        "Por ejemplo, tiempos escritos como `16'33''` (minutos y segundos).\n"
      ],
      "metadata": {
        "id": "t5wBNwGFNCXv"
      }
    },
    {
      "cell_type": "code",
      "source": [
        "re.findall(r\"\\d\\d'\\d\\d''\", texto)"
      ],
      "metadata": {
        "colab": {
          "base_uri": "https://localhost:8080/"
        },
        "id": "yClAi68gM7xr",
        "outputId": "8bdf4d35-1cde-4abf-f771-8e14058bef47"
      },
      "execution_count": null,
      "outputs": [
        {
          "output_type": "execute_result",
          "data": {
            "text/plain": [
              "[\"14'49''\",\n",
              " \"14'58''\",\n",
              " \"15'05''\",\n",
              " \"15'13''\",\n",
              " \"15'22''\",\n",
              " \"15'38''\",\n",
              " \"15'41''\",\n",
              " \"16'11''\",\n",
              " \"16'29''\",\n",
              " \"16'33''\"]"
            ]
          },
          "metadata": {},
          "execution_count": 11
        }
      ]
    },
    {
      "cell_type": "code",
      "source": [
        "re.findall(r\"\\d{0,2}'\\d{0,2}'{0,2}\", texto)"
      ],
      "metadata": {
        "colab": {
          "base_uri": "https://localhost:8080/"
        },
        "id": "UEy_9wvvNcRi",
        "outputId": "7281da61-7087-4028-94bf-47adacf9c148"
      },
      "execution_count": null,
      "outputs": [
        {
          "output_type": "execute_result",
          "data": {
            "text/plain": [
              "[\"14'49''\",\n",
              " \"14'58''\",\n",
              " \"15'05''\",\n",
              " \"15'13''\",\n",
              " \"15'22''\",\n",
              " \"15'38''\",\n",
              " \"15'41''\",\n",
              " \"16'\",\n",
              " \"16'11''\",\n",
              " \"16'2''\",\n",
              " \"16'29''\",\n",
              " \"16'33''\"]"
            ]
          },
          "metadata": {},
          "execution_count": 12
        }
      ]
    },
    {
      "cell_type": "markdown",
      "source": [
        "**Ahora busquemos el contenido que está entre paréntesis.**\n"
      ],
      "metadata": {
        "id": "gANvhOutNamz"
      }
    },
    {
      "cell_type": "code",
      "source": [
        "re.findall(r\"\\(.*\\)\", texto)        # devuelve todo, paréntesis incluidos\n",
        "\n"
      ],
      "metadata": {
        "colab": {
          "base_uri": "https://localhost:8080/"
        },
        "id": "J0fWcU2_N02j",
        "outputId": "aafcf794-b7b5-48aa-8afa-a32a3daa2c77"
      },
      "execution_count": null,
      "outputs": [
        {
          "output_type": "execute_result",
          "data": {
            "text/plain": [
              "['(Jefe de los Minisupers)',\n",
              " '(Apu)',\n",
              " '(Homer)',\n",
              " '(Jefe de los Minisupers)',\n",
              " '(Homer)',\n",
              " '(Jefe de los Minisupers)',\n",
              " '(Homer)',\n",
              " '(Jefe de los Minisupers)',\n",
              " '(Apu)',\n",
              " '(Jefe de los Minisupers)',\n",
              " '(Apu)',\n",
              " '(Jefe de los Minisupers)']"
            ]
          },
          "metadata": {},
          "execution_count": 14
        }
      ]
    },
    {
      "cell_type": "code",
      "source": [
        "re.findall(r\"\\((.*)\\)\", texto)      # devuelve solo lo de adentro"
      ],
      "metadata": {
        "colab": {
          "base_uri": "https://localhost:8080/"
        },
        "id": "63QGCbpMN0zs",
        "outputId": "443048a3-e6c6-4e87-a16d-2b36fcd8a33f"
      },
      "execution_count": null,
      "outputs": [
        {
          "output_type": "execute_result",
          "data": {
            "text/plain": [
              "['Jefe de los Minisupers',\n",
              " 'Apu',\n",
              " 'Homer',\n",
              " 'Jefe de los Minisupers',\n",
              " 'Homer',\n",
              " 'Jefe de los Minisupers',\n",
              " 'Homer',\n",
              " 'Jefe de los Minisupers',\n",
              " 'Apu',\n",
              " 'Jefe de los Minisupers',\n",
              " 'Apu',\n",
              " 'Jefe de los Minisupers']"
            ]
          },
          "metadata": {},
          "execution_count": 15
        }
      ]
    },
    {
      "cell_type": "markdown",
      "source": [
        "**Podemos combinarlo para separar el personaje, el tiempo y el diálogo.**\n"
      ],
      "metadata": {
        "id": "NjlzNKFuOFV7"
      }
    },
    {
      "cell_type": "code",
      "source": [
        "script = re.findall(r\"\\((.*)\\) (\\d\\d'\\d{0,2}'{0,2}) (.*)\", texto)\n",
        "df = pd.DataFrame(script)\n",
        "df.columns = [\"personaje\",\"tiempo\",\"texto\"]\n",
        "df"
      ],
      "metadata": {
        "colab": {
          "base_uri": "https://localhost:8080/",
          "height": 426
        },
        "id": "xLkqMpM1N0xL",
        "outputId": "7efd945f-dbad-466f-8680-a75c612d69c9"
      },
      "execution_count": null,
      "outputs": [
        {
          "output_type": "execute_result",
          "data": {
            "text/plain": [
              "                 personaje   tiempo                                 texto\n",
              "0   Jefe de los Minisupers  14'49''        Podéis hacerme tres preguntas.\n",
              "1                      Apu  14'58''  Qué bueno, porque sólo necesito una.\n",
              "2                    Homer  15'05''  ¿Usted es el Jefe de los Minisupers?\n",
              "3   Jefe de los Minisupers  15'13''                               Así es.\n",
              "4                    Homer  15'22''                               ¿Usted?\n",
              "5   Jefe de los Minisupers  15'38''                               Así es.\n",
              "6                    Homer  15'41''                         ¿Está seguro?\n",
              "7   Jefe de los Minisupers      16'    Sí. Espero que los haya iluminado.\n",
              "8                      Apu  16'11''                     Pero tengo que...\n",
              "9   Jefe de los Minisupers   16'2''               Gracias. Vuelva pronto.\n",
              "10                     Apu  16'29''                                 Pero.\n",
              "11  Jefe de los Minisupers  16'33''           Graciaaaaas. Vuelva pronto."
            ],
            "text/html": [
              "\n",
              "  <div id=\"df-8ccca396-7f02-4bc7-85a7-1906debd3edc\" class=\"colab-df-container\">\n",
              "    <div>\n",
              "<style scoped>\n",
              "    .dataframe tbody tr th:only-of-type {\n",
              "        vertical-align: middle;\n",
              "    }\n",
              "\n",
              "    .dataframe tbody tr th {\n",
              "        vertical-align: top;\n",
              "    }\n",
              "\n",
              "    .dataframe thead th {\n",
              "        text-align: right;\n",
              "    }\n",
              "</style>\n",
              "<table border=\"1\" class=\"dataframe\">\n",
              "  <thead>\n",
              "    <tr style=\"text-align: right;\">\n",
              "      <th></th>\n",
              "      <th>personaje</th>\n",
              "      <th>tiempo</th>\n",
              "      <th>texto</th>\n",
              "    </tr>\n",
              "  </thead>\n",
              "  <tbody>\n",
              "    <tr>\n",
              "      <th>0</th>\n",
              "      <td>Jefe de los Minisupers</td>\n",
              "      <td>14'49''</td>\n",
              "      <td>Podéis hacerme tres preguntas.</td>\n",
              "    </tr>\n",
              "    <tr>\n",
              "      <th>1</th>\n",
              "      <td>Apu</td>\n",
              "      <td>14'58''</td>\n",
              "      <td>Qué bueno, porque sólo necesito una.</td>\n",
              "    </tr>\n",
              "    <tr>\n",
              "      <th>2</th>\n",
              "      <td>Homer</td>\n",
              "      <td>15'05''</td>\n",
              "      <td>¿Usted es el Jefe de los Minisupers?</td>\n",
              "    </tr>\n",
              "    <tr>\n",
              "      <th>3</th>\n",
              "      <td>Jefe de los Minisupers</td>\n",
              "      <td>15'13''</td>\n",
              "      <td>Así es.</td>\n",
              "    </tr>\n",
              "    <tr>\n",
              "      <th>4</th>\n",
              "      <td>Homer</td>\n",
              "      <td>15'22''</td>\n",
              "      <td>¿Usted?</td>\n",
              "    </tr>\n",
              "    <tr>\n",
              "      <th>5</th>\n",
              "      <td>Jefe de los Minisupers</td>\n",
              "      <td>15'38''</td>\n",
              "      <td>Así es.</td>\n",
              "    </tr>\n",
              "    <tr>\n",
              "      <th>6</th>\n",
              "      <td>Homer</td>\n",
              "      <td>15'41''</td>\n",
              "      <td>¿Está seguro?</td>\n",
              "    </tr>\n",
              "    <tr>\n",
              "      <th>7</th>\n",
              "      <td>Jefe de los Minisupers</td>\n",
              "      <td>16'</td>\n",
              "      <td>Sí. Espero que los haya iluminado.</td>\n",
              "    </tr>\n",
              "    <tr>\n",
              "      <th>8</th>\n",
              "      <td>Apu</td>\n",
              "      <td>16'11''</td>\n",
              "      <td>Pero tengo que...</td>\n",
              "    </tr>\n",
              "    <tr>\n",
              "      <th>9</th>\n",
              "      <td>Jefe de los Minisupers</td>\n",
              "      <td>16'2''</td>\n",
              "      <td>Gracias. Vuelva pronto.</td>\n",
              "    </tr>\n",
              "    <tr>\n",
              "      <th>10</th>\n",
              "      <td>Apu</td>\n",
              "      <td>16'29''</td>\n",
              "      <td>Pero.</td>\n",
              "    </tr>\n",
              "    <tr>\n",
              "      <th>11</th>\n",
              "      <td>Jefe de los Minisupers</td>\n",
              "      <td>16'33''</td>\n",
              "      <td>Graciaaaaas. Vuelva pronto.</td>\n",
              "    </tr>\n",
              "  </tbody>\n",
              "</table>\n",
              "</div>\n",
              "    <div class=\"colab-df-buttons\">\n",
              "\n",
              "  <div class=\"colab-df-container\">\n",
              "    <button class=\"colab-df-convert\" onclick=\"convertToInteractive('df-8ccca396-7f02-4bc7-85a7-1906debd3edc')\"\n",
              "            title=\"Convert this dataframe to an interactive table.\"\n",
              "            style=\"display:none;\">\n",
              "\n",
              "  <svg xmlns=\"http://www.w3.org/2000/svg\" height=\"24px\" viewBox=\"0 -960 960 960\">\n",
              "    <path d=\"M120-120v-720h720v720H120Zm60-500h600v-160H180v160Zm220 220h160v-160H400v160Zm0 220h160v-160H400v160ZM180-400h160v-160H180v160Zm440 0h160v-160H620v160ZM180-180h160v-160H180v160Zm440 0h160v-160H620v160Z\"/>\n",
              "  </svg>\n",
              "    </button>\n",
              "\n",
              "  <style>\n",
              "    .colab-df-container {\n",
              "      display:flex;\n",
              "      gap: 12px;\n",
              "    }\n",
              "\n",
              "    .colab-df-convert {\n",
              "      background-color: #E8F0FE;\n",
              "      border: none;\n",
              "      border-radius: 50%;\n",
              "      cursor: pointer;\n",
              "      display: none;\n",
              "      fill: #1967D2;\n",
              "      height: 32px;\n",
              "      padding: 0 0 0 0;\n",
              "      width: 32px;\n",
              "    }\n",
              "\n",
              "    .colab-df-convert:hover {\n",
              "      background-color: #E2EBFA;\n",
              "      box-shadow: 0px 1px 2px rgba(60, 64, 67, 0.3), 0px 1px 3px 1px rgba(60, 64, 67, 0.15);\n",
              "      fill: #174EA6;\n",
              "    }\n",
              "\n",
              "    .colab-df-buttons div {\n",
              "      margin-bottom: 4px;\n",
              "    }\n",
              "\n",
              "    [theme=dark] .colab-df-convert {\n",
              "      background-color: #3B4455;\n",
              "      fill: #D2E3FC;\n",
              "    }\n",
              "\n",
              "    [theme=dark] .colab-df-convert:hover {\n",
              "      background-color: #434B5C;\n",
              "      box-shadow: 0px 1px 3px 1px rgba(0, 0, 0, 0.15);\n",
              "      filter: drop-shadow(0px 1px 2px rgba(0, 0, 0, 0.3));\n",
              "      fill: #FFFFFF;\n",
              "    }\n",
              "  </style>\n",
              "\n",
              "    <script>\n",
              "      const buttonEl =\n",
              "        document.querySelector('#df-8ccca396-7f02-4bc7-85a7-1906debd3edc button.colab-df-convert');\n",
              "      buttonEl.style.display =\n",
              "        google.colab.kernel.accessAllowed ? 'block' : 'none';\n",
              "\n",
              "      async function convertToInteractive(key) {\n",
              "        const element = document.querySelector('#df-8ccca396-7f02-4bc7-85a7-1906debd3edc');\n",
              "        const dataTable =\n",
              "          await google.colab.kernel.invokeFunction('convertToInteractive',\n",
              "                                                    [key], {});\n",
              "        if (!dataTable) return;\n",
              "\n",
              "        const docLinkHtml = 'Like what you see? Visit the ' +\n",
              "          '<a target=\"_blank\" href=https://colab.research.google.com/notebooks/data_table.ipynb>data table notebook</a>'\n",
              "          + ' to learn more about interactive tables.';\n",
              "        element.innerHTML = '';\n",
              "        dataTable['output_type'] = 'display_data';\n",
              "        await google.colab.output.renderOutput(dataTable, element);\n",
              "        const docLink = document.createElement('div');\n",
              "        docLink.innerHTML = docLinkHtml;\n",
              "        element.appendChild(docLink);\n",
              "      }\n",
              "    </script>\n",
              "  </div>\n",
              "\n",
              "\n",
              "    <div id=\"df-179acf2e-12de-489f-bd7a-4070c6d9cce6\">\n",
              "      <button class=\"colab-df-quickchart\" onclick=\"quickchart('df-179acf2e-12de-489f-bd7a-4070c6d9cce6')\"\n",
              "                title=\"Suggest charts\"\n",
              "                style=\"display:none;\">\n",
              "\n",
              "<svg xmlns=\"http://www.w3.org/2000/svg\" height=\"24px\"viewBox=\"0 0 24 24\"\n",
              "     width=\"24px\">\n",
              "    <g>\n",
              "        <path d=\"M19 3H5c-1.1 0-2 .9-2 2v14c0 1.1.9 2 2 2h14c1.1 0 2-.9 2-2V5c0-1.1-.9-2-2-2zM9 17H7v-7h2v7zm4 0h-2V7h2v10zm4 0h-2v-4h2v4z\"/>\n",
              "    </g>\n",
              "</svg>\n",
              "      </button>\n",
              "\n",
              "<style>\n",
              "  .colab-df-quickchart {\n",
              "      --bg-color: #E8F0FE;\n",
              "      --fill-color: #1967D2;\n",
              "      --hover-bg-color: #E2EBFA;\n",
              "      --hover-fill-color: #174EA6;\n",
              "      --disabled-fill-color: #AAA;\n",
              "      --disabled-bg-color: #DDD;\n",
              "  }\n",
              "\n",
              "  [theme=dark] .colab-df-quickchart {\n",
              "      --bg-color: #3B4455;\n",
              "      --fill-color: #D2E3FC;\n",
              "      --hover-bg-color: #434B5C;\n",
              "      --hover-fill-color: #FFFFFF;\n",
              "      --disabled-bg-color: #3B4455;\n",
              "      --disabled-fill-color: #666;\n",
              "  }\n",
              "\n",
              "  .colab-df-quickchart {\n",
              "    background-color: var(--bg-color);\n",
              "    border: none;\n",
              "    border-radius: 50%;\n",
              "    cursor: pointer;\n",
              "    display: none;\n",
              "    fill: var(--fill-color);\n",
              "    height: 32px;\n",
              "    padding: 0;\n",
              "    width: 32px;\n",
              "  }\n",
              "\n",
              "  .colab-df-quickchart:hover {\n",
              "    background-color: var(--hover-bg-color);\n",
              "    box-shadow: 0 1px 2px rgba(60, 64, 67, 0.3), 0 1px 3px 1px rgba(60, 64, 67, 0.15);\n",
              "    fill: var(--button-hover-fill-color);\n",
              "  }\n",
              "\n",
              "  .colab-df-quickchart-complete:disabled,\n",
              "  .colab-df-quickchart-complete:disabled:hover {\n",
              "    background-color: var(--disabled-bg-color);\n",
              "    fill: var(--disabled-fill-color);\n",
              "    box-shadow: none;\n",
              "  }\n",
              "\n",
              "  .colab-df-spinner {\n",
              "    border: 2px solid var(--fill-color);\n",
              "    border-color: transparent;\n",
              "    border-bottom-color: var(--fill-color);\n",
              "    animation:\n",
              "      spin 1s steps(1) infinite;\n",
              "  }\n",
              "\n",
              "  @keyframes spin {\n",
              "    0% {\n",
              "      border-color: transparent;\n",
              "      border-bottom-color: var(--fill-color);\n",
              "      border-left-color: var(--fill-color);\n",
              "    }\n",
              "    20% {\n",
              "      border-color: transparent;\n",
              "      border-left-color: var(--fill-color);\n",
              "      border-top-color: var(--fill-color);\n",
              "    }\n",
              "    30% {\n",
              "      border-color: transparent;\n",
              "      border-left-color: var(--fill-color);\n",
              "      border-top-color: var(--fill-color);\n",
              "      border-right-color: var(--fill-color);\n",
              "    }\n",
              "    40% {\n",
              "      border-color: transparent;\n",
              "      border-right-color: var(--fill-color);\n",
              "      border-top-color: var(--fill-color);\n",
              "    }\n",
              "    60% {\n",
              "      border-color: transparent;\n",
              "      border-right-color: var(--fill-color);\n",
              "    }\n",
              "    80% {\n",
              "      border-color: transparent;\n",
              "      border-right-color: var(--fill-color);\n",
              "      border-bottom-color: var(--fill-color);\n",
              "    }\n",
              "    90% {\n",
              "      border-color: transparent;\n",
              "      border-bottom-color: var(--fill-color);\n",
              "    }\n",
              "  }\n",
              "</style>\n",
              "\n",
              "      <script>\n",
              "        async function quickchart(key) {\n",
              "          const quickchartButtonEl =\n",
              "            document.querySelector('#' + key + ' button');\n",
              "          quickchartButtonEl.disabled = true;  // To prevent multiple clicks.\n",
              "          quickchartButtonEl.classList.add('colab-df-spinner');\n",
              "          try {\n",
              "            const charts = await google.colab.kernel.invokeFunction(\n",
              "                'suggestCharts', [key], {});\n",
              "          } catch (error) {\n",
              "            console.error('Error during call to suggestCharts:', error);\n",
              "          }\n",
              "          quickchartButtonEl.classList.remove('colab-df-spinner');\n",
              "          quickchartButtonEl.classList.add('colab-df-quickchart-complete');\n",
              "        }\n",
              "        (() => {\n",
              "          let quickchartButtonEl =\n",
              "            document.querySelector('#df-179acf2e-12de-489f-bd7a-4070c6d9cce6 button');\n",
              "          quickchartButtonEl.style.display =\n",
              "            google.colab.kernel.accessAllowed ? 'block' : 'none';\n",
              "        })();\n",
              "      </script>\n",
              "    </div>\n",
              "\n",
              "  <div id=\"id_4d732a6d-4119-4d55-86d7-f9713b70bf42\">\n",
              "    <style>\n",
              "      .colab-df-generate {\n",
              "        background-color: #E8F0FE;\n",
              "        border: none;\n",
              "        border-radius: 50%;\n",
              "        cursor: pointer;\n",
              "        display: none;\n",
              "        fill: #1967D2;\n",
              "        height: 32px;\n",
              "        padding: 0 0 0 0;\n",
              "        width: 32px;\n",
              "      }\n",
              "\n",
              "      .colab-df-generate:hover {\n",
              "        background-color: #E2EBFA;\n",
              "        box-shadow: 0px 1px 2px rgba(60, 64, 67, 0.3), 0px 1px 3px 1px rgba(60, 64, 67, 0.15);\n",
              "        fill: #174EA6;\n",
              "      }\n",
              "\n",
              "      [theme=dark] .colab-df-generate {\n",
              "        background-color: #3B4455;\n",
              "        fill: #D2E3FC;\n",
              "      }\n",
              "\n",
              "      [theme=dark] .colab-df-generate:hover {\n",
              "        background-color: #434B5C;\n",
              "        box-shadow: 0px 1px 3px 1px rgba(0, 0, 0, 0.15);\n",
              "        filter: drop-shadow(0px 1px 2px rgba(0, 0, 0, 0.3));\n",
              "        fill: #FFFFFF;\n",
              "      }\n",
              "    </style>\n",
              "    <button class=\"colab-df-generate\" onclick=\"generateWithVariable('df')\"\n",
              "            title=\"Generate code using this dataframe.\"\n",
              "            style=\"display:none;\">\n",
              "\n",
              "  <svg xmlns=\"http://www.w3.org/2000/svg\" height=\"24px\"viewBox=\"0 0 24 24\"\n",
              "       width=\"24px\">\n",
              "    <path d=\"M7,19H8.4L18.45,9,17,7.55,7,17.6ZM5,21V16.75L18.45,3.32a2,2,0,0,1,2.83,0l1.4,1.43a1.91,1.91,0,0,1,.58,1.4,1.91,1.91,0,0,1-.58,1.4L9.25,21ZM18.45,9,17,7.55Zm-12,3A5.31,5.31,0,0,0,4.9,8.1,5.31,5.31,0,0,0,1,6.5,5.31,5.31,0,0,0,4.9,4.9,5.31,5.31,0,0,0,6.5,1,5.31,5.31,0,0,0,8.1,4.9,5.31,5.31,0,0,0,12,6.5,5.46,5.46,0,0,0,6.5,12Z\"/>\n",
              "  </svg>\n",
              "    </button>\n",
              "    <script>\n",
              "      (() => {\n",
              "      const buttonEl =\n",
              "        document.querySelector('#id_4d732a6d-4119-4d55-86d7-f9713b70bf42 button.colab-df-generate');\n",
              "      buttonEl.style.display =\n",
              "        google.colab.kernel.accessAllowed ? 'block' : 'none';\n",
              "\n",
              "      buttonEl.onclick = () => {\n",
              "        google.colab.notebook.generateWithVariable('df');\n",
              "      }\n",
              "      })();\n",
              "    </script>\n",
              "  </div>\n",
              "\n",
              "    </div>\n",
              "  </div>\n"
            ],
            "application/vnd.google.colaboratory.intrinsic+json": {
              "type": "dataframe",
              "variable_name": "df",
              "summary": "{\n  \"name\": \"df\",\n  \"rows\": 12,\n  \"fields\": [\n    {\n      \"column\": \"personaje\",\n      \"properties\": {\n        \"dtype\": \"category\",\n        \"num_unique_values\": 3,\n        \"samples\": [\n          \"Jefe de los Minisupers\",\n          \"Apu\",\n          \"Homer\"\n        ],\n        \"semantic_type\": \"\",\n        \"description\": \"\"\n      }\n    },\n    {\n      \"column\": \"tiempo\",\n      \"properties\": {\n        \"dtype\": \"string\",\n        \"num_unique_values\": 12,\n        \"samples\": [\n          \"16'29''\",\n          \"16'2''\",\n          \"14'49''\"\n        ],\n        \"semantic_type\": \"\",\n        \"description\": \"\"\n      }\n    },\n    {\n      \"column\": \"texto\",\n      \"properties\": {\n        \"dtype\": \"string\",\n        \"num_unique_values\": 11,\n        \"samples\": [\n          \"\\u00bfEst\\u00e1 seguro?\",\n          \"Pod\\u00e9is hacerme tres preguntas.\",\n          \"Pero.\"\n        ],\n        \"semantic_type\": \"\",\n        \"description\": \"\"\n      }\n    }\n  ]\n}"
            }
          },
          "metadata": {},
          "execution_count": 17
        }
      ]
    },
    {
      "cell_type": "markdown",
      "source": [
        "**Si además queremos los minutos y segundos por separado, usamos un ciclo.**\n"
      ],
      "metadata": {
        "id": "rdLTPqL8O6Pk"
      }
    },
    {
      "cell_type": "code",
      "source": [
        "script_iterator = re.finditer(r\"\\((.*)\\) (\\d\\d'\\d{0,2}'{0,2}) (.*)\", texto)\n",
        "scripts = []\n",
        "for match in script_iterator:\n",
        "    personaje = match.group(1)\n",
        "    min_ = match.group(2).split(\"'\")[0]\n",
        "    seg = match.group(2).split(\"'\")[1]\n",
        "    dialogo = match.group(3)\n",
        "    indices = match.span()\n",
        "    scripts.append([personaje, min_, seg, dialogo, indices])\n",
        "\n",
        "df_scripts = pd.DataFrame(scripts)\n",
        "df_scripts.columns = [\"personaje\",\"min\",\"seg\",\"texto\",\"indices\"]\n",
        "df_scripts\n"
      ],
      "metadata": {
        "colab": {
          "base_uri": "https://localhost:8080/",
          "height": 426
        },
        "id": "3A5KCRdOO9bz",
        "outputId": "d73b0812-c506-4b2d-8032-dc97c2396553"
      },
      "execution_count": null,
      "outputs": [
        {
          "output_type": "execute_result",
          "data": {
            "text/plain": [
              "                 personaje min seg                                 texto  \\\n",
              "0   Jefe de los Minisupers  14  49        Podéis hacerme tres preguntas.   \n",
              "1                      Apu  14  58  Qué bueno, porque sólo necesito una.   \n",
              "2                    Homer  15  05  ¿Usted es el Jefe de los Minisupers?   \n",
              "3   Jefe de los Minisupers  15  13                               Así es.   \n",
              "4                    Homer  15  22                               ¿Usted?   \n",
              "5   Jefe de los Minisupers  15  38                               Así es.   \n",
              "6                    Homer  15  41                         ¿Está seguro?   \n",
              "7   Jefe de los Minisupers  16        Sí. Espero que los haya iluminado.   \n",
              "8                      Apu  16  11                     Pero tengo que...   \n",
              "9   Jefe de los Minisupers  16   2               Gracias. Vuelva pronto.   \n",
              "10                     Apu  16  29                                 Pero.   \n",
              "11  Jefe de los Minisupers  16  33           Graciaaaaas. Vuelva pronto.   \n",
              "\n",
              "       indices  \n",
              "0      (0, 63)  \n",
              "1    (64, 114)  \n",
              "2   (115, 167)  \n",
              "3   (168, 208)  \n",
              "4   (209, 232)  \n",
              "5   (233, 273)  \n",
              "6   (274, 303)  \n",
              "7   (304, 367)  \n",
              "8   (368, 399)  \n",
              "9   (400, 455)  \n",
              "10  (456, 475)  \n",
              "11  (476, 536)  "
            ],
            "text/html": [
              "\n",
              "  <div id=\"df-6e56740c-678b-40b0-b026-bf3c55bf75dd\" class=\"colab-df-container\">\n",
              "    <div>\n",
              "<style scoped>\n",
              "    .dataframe tbody tr th:only-of-type {\n",
              "        vertical-align: middle;\n",
              "    }\n",
              "\n",
              "    .dataframe tbody tr th {\n",
              "        vertical-align: top;\n",
              "    }\n",
              "\n",
              "    .dataframe thead th {\n",
              "        text-align: right;\n",
              "    }\n",
              "</style>\n",
              "<table border=\"1\" class=\"dataframe\">\n",
              "  <thead>\n",
              "    <tr style=\"text-align: right;\">\n",
              "      <th></th>\n",
              "      <th>personaje</th>\n",
              "      <th>min</th>\n",
              "      <th>seg</th>\n",
              "      <th>texto</th>\n",
              "      <th>indices</th>\n",
              "    </tr>\n",
              "  </thead>\n",
              "  <tbody>\n",
              "    <tr>\n",
              "      <th>0</th>\n",
              "      <td>Jefe de los Minisupers</td>\n",
              "      <td>14</td>\n",
              "      <td>49</td>\n",
              "      <td>Podéis hacerme tres preguntas.</td>\n",
              "      <td>(0, 63)</td>\n",
              "    </tr>\n",
              "    <tr>\n",
              "      <th>1</th>\n",
              "      <td>Apu</td>\n",
              "      <td>14</td>\n",
              "      <td>58</td>\n",
              "      <td>Qué bueno, porque sólo necesito una.</td>\n",
              "      <td>(64, 114)</td>\n",
              "    </tr>\n",
              "    <tr>\n",
              "      <th>2</th>\n",
              "      <td>Homer</td>\n",
              "      <td>15</td>\n",
              "      <td>05</td>\n",
              "      <td>¿Usted es el Jefe de los Minisupers?</td>\n",
              "      <td>(115, 167)</td>\n",
              "    </tr>\n",
              "    <tr>\n",
              "      <th>3</th>\n",
              "      <td>Jefe de los Minisupers</td>\n",
              "      <td>15</td>\n",
              "      <td>13</td>\n",
              "      <td>Así es.</td>\n",
              "      <td>(168, 208)</td>\n",
              "    </tr>\n",
              "    <tr>\n",
              "      <th>4</th>\n",
              "      <td>Homer</td>\n",
              "      <td>15</td>\n",
              "      <td>22</td>\n",
              "      <td>¿Usted?</td>\n",
              "      <td>(209, 232)</td>\n",
              "    </tr>\n",
              "    <tr>\n",
              "      <th>5</th>\n",
              "      <td>Jefe de los Minisupers</td>\n",
              "      <td>15</td>\n",
              "      <td>38</td>\n",
              "      <td>Así es.</td>\n",
              "      <td>(233, 273)</td>\n",
              "    </tr>\n",
              "    <tr>\n",
              "      <th>6</th>\n",
              "      <td>Homer</td>\n",
              "      <td>15</td>\n",
              "      <td>41</td>\n",
              "      <td>¿Está seguro?</td>\n",
              "      <td>(274, 303)</td>\n",
              "    </tr>\n",
              "    <tr>\n",
              "      <th>7</th>\n",
              "      <td>Jefe de los Minisupers</td>\n",
              "      <td>16</td>\n",
              "      <td></td>\n",
              "      <td>Sí. Espero que los haya iluminado.</td>\n",
              "      <td>(304, 367)</td>\n",
              "    </tr>\n",
              "    <tr>\n",
              "      <th>8</th>\n",
              "      <td>Apu</td>\n",
              "      <td>16</td>\n",
              "      <td>11</td>\n",
              "      <td>Pero tengo que...</td>\n",
              "      <td>(368, 399)</td>\n",
              "    </tr>\n",
              "    <tr>\n",
              "      <th>9</th>\n",
              "      <td>Jefe de los Minisupers</td>\n",
              "      <td>16</td>\n",
              "      <td>2</td>\n",
              "      <td>Gracias. Vuelva pronto.</td>\n",
              "      <td>(400, 455)</td>\n",
              "    </tr>\n",
              "    <tr>\n",
              "      <th>10</th>\n",
              "      <td>Apu</td>\n",
              "      <td>16</td>\n",
              "      <td>29</td>\n",
              "      <td>Pero.</td>\n",
              "      <td>(456, 475)</td>\n",
              "    </tr>\n",
              "    <tr>\n",
              "      <th>11</th>\n",
              "      <td>Jefe de los Minisupers</td>\n",
              "      <td>16</td>\n",
              "      <td>33</td>\n",
              "      <td>Graciaaaaas. Vuelva pronto.</td>\n",
              "      <td>(476, 536)</td>\n",
              "    </tr>\n",
              "  </tbody>\n",
              "</table>\n",
              "</div>\n",
              "    <div class=\"colab-df-buttons\">\n",
              "\n",
              "  <div class=\"colab-df-container\">\n",
              "    <button class=\"colab-df-convert\" onclick=\"convertToInteractive('df-6e56740c-678b-40b0-b026-bf3c55bf75dd')\"\n",
              "            title=\"Convert this dataframe to an interactive table.\"\n",
              "            style=\"display:none;\">\n",
              "\n",
              "  <svg xmlns=\"http://www.w3.org/2000/svg\" height=\"24px\" viewBox=\"0 -960 960 960\">\n",
              "    <path d=\"M120-120v-720h720v720H120Zm60-500h600v-160H180v160Zm220 220h160v-160H400v160Zm0 220h160v-160H400v160ZM180-400h160v-160H180v160Zm440 0h160v-160H620v160ZM180-180h160v-160H180v160Zm440 0h160v-160H620v160Z\"/>\n",
              "  </svg>\n",
              "    </button>\n",
              "\n",
              "  <style>\n",
              "    .colab-df-container {\n",
              "      display:flex;\n",
              "      gap: 12px;\n",
              "    }\n",
              "\n",
              "    .colab-df-convert {\n",
              "      background-color: #E8F0FE;\n",
              "      border: none;\n",
              "      border-radius: 50%;\n",
              "      cursor: pointer;\n",
              "      display: none;\n",
              "      fill: #1967D2;\n",
              "      height: 32px;\n",
              "      padding: 0 0 0 0;\n",
              "      width: 32px;\n",
              "    }\n",
              "\n",
              "    .colab-df-convert:hover {\n",
              "      background-color: #E2EBFA;\n",
              "      box-shadow: 0px 1px 2px rgba(60, 64, 67, 0.3), 0px 1px 3px 1px rgba(60, 64, 67, 0.15);\n",
              "      fill: #174EA6;\n",
              "    }\n",
              "\n",
              "    .colab-df-buttons div {\n",
              "      margin-bottom: 4px;\n",
              "    }\n",
              "\n",
              "    [theme=dark] .colab-df-convert {\n",
              "      background-color: #3B4455;\n",
              "      fill: #D2E3FC;\n",
              "    }\n",
              "\n",
              "    [theme=dark] .colab-df-convert:hover {\n",
              "      background-color: #434B5C;\n",
              "      box-shadow: 0px 1px 3px 1px rgba(0, 0, 0, 0.15);\n",
              "      filter: drop-shadow(0px 1px 2px rgba(0, 0, 0, 0.3));\n",
              "      fill: #FFFFFF;\n",
              "    }\n",
              "  </style>\n",
              "\n",
              "    <script>\n",
              "      const buttonEl =\n",
              "        document.querySelector('#df-6e56740c-678b-40b0-b026-bf3c55bf75dd button.colab-df-convert');\n",
              "      buttonEl.style.display =\n",
              "        google.colab.kernel.accessAllowed ? 'block' : 'none';\n",
              "\n",
              "      async function convertToInteractive(key) {\n",
              "        const element = document.querySelector('#df-6e56740c-678b-40b0-b026-bf3c55bf75dd');\n",
              "        const dataTable =\n",
              "          await google.colab.kernel.invokeFunction('convertToInteractive',\n",
              "                                                    [key], {});\n",
              "        if (!dataTable) return;\n",
              "\n",
              "        const docLinkHtml = 'Like what you see? Visit the ' +\n",
              "          '<a target=\"_blank\" href=https://colab.research.google.com/notebooks/data_table.ipynb>data table notebook</a>'\n",
              "          + ' to learn more about interactive tables.';\n",
              "        element.innerHTML = '';\n",
              "        dataTable['output_type'] = 'display_data';\n",
              "        await google.colab.output.renderOutput(dataTable, element);\n",
              "        const docLink = document.createElement('div');\n",
              "        docLink.innerHTML = docLinkHtml;\n",
              "        element.appendChild(docLink);\n",
              "      }\n",
              "    </script>\n",
              "  </div>\n",
              "\n",
              "\n",
              "    <div id=\"df-6802c5d3-e4f2-4ac4-8717-8797410bbfd8\">\n",
              "      <button class=\"colab-df-quickchart\" onclick=\"quickchart('df-6802c5d3-e4f2-4ac4-8717-8797410bbfd8')\"\n",
              "                title=\"Suggest charts\"\n",
              "                style=\"display:none;\">\n",
              "\n",
              "<svg xmlns=\"http://www.w3.org/2000/svg\" height=\"24px\"viewBox=\"0 0 24 24\"\n",
              "     width=\"24px\">\n",
              "    <g>\n",
              "        <path d=\"M19 3H5c-1.1 0-2 .9-2 2v14c0 1.1.9 2 2 2h14c1.1 0 2-.9 2-2V5c0-1.1-.9-2-2-2zM9 17H7v-7h2v7zm4 0h-2V7h2v10zm4 0h-2v-4h2v4z\"/>\n",
              "    </g>\n",
              "</svg>\n",
              "      </button>\n",
              "\n",
              "<style>\n",
              "  .colab-df-quickchart {\n",
              "      --bg-color: #E8F0FE;\n",
              "      --fill-color: #1967D2;\n",
              "      --hover-bg-color: #E2EBFA;\n",
              "      --hover-fill-color: #174EA6;\n",
              "      --disabled-fill-color: #AAA;\n",
              "      --disabled-bg-color: #DDD;\n",
              "  }\n",
              "\n",
              "  [theme=dark] .colab-df-quickchart {\n",
              "      --bg-color: #3B4455;\n",
              "      --fill-color: #D2E3FC;\n",
              "      --hover-bg-color: #434B5C;\n",
              "      --hover-fill-color: #FFFFFF;\n",
              "      --disabled-bg-color: #3B4455;\n",
              "      --disabled-fill-color: #666;\n",
              "  }\n",
              "\n",
              "  .colab-df-quickchart {\n",
              "    background-color: var(--bg-color);\n",
              "    border: none;\n",
              "    border-radius: 50%;\n",
              "    cursor: pointer;\n",
              "    display: none;\n",
              "    fill: var(--fill-color);\n",
              "    height: 32px;\n",
              "    padding: 0;\n",
              "    width: 32px;\n",
              "  }\n",
              "\n",
              "  .colab-df-quickchart:hover {\n",
              "    background-color: var(--hover-bg-color);\n",
              "    box-shadow: 0 1px 2px rgba(60, 64, 67, 0.3), 0 1px 3px 1px rgba(60, 64, 67, 0.15);\n",
              "    fill: var(--button-hover-fill-color);\n",
              "  }\n",
              "\n",
              "  .colab-df-quickchart-complete:disabled,\n",
              "  .colab-df-quickchart-complete:disabled:hover {\n",
              "    background-color: var(--disabled-bg-color);\n",
              "    fill: var(--disabled-fill-color);\n",
              "    box-shadow: none;\n",
              "  }\n",
              "\n",
              "  .colab-df-spinner {\n",
              "    border: 2px solid var(--fill-color);\n",
              "    border-color: transparent;\n",
              "    border-bottom-color: var(--fill-color);\n",
              "    animation:\n",
              "      spin 1s steps(1) infinite;\n",
              "  }\n",
              "\n",
              "  @keyframes spin {\n",
              "    0% {\n",
              "      border-color: transparent;\n",
              "      border-bottom-color: var(--fill-color);\n",
              "      border-left-color: var(--fill-color);\n",
              "    }\n",
              "    20% {\n",
              "      border-color: transparent;\n",
              "      border-left-color: var(--fill-color);\n",
              "      border-top-color: var(--fill-color);\n",
              "    }\n",
              "    30% {\n",
              "      border-color: transparent;\n",
              "      border-left-color: var(--fill-color);\n",
              "      border-top-color: var(--fill-color);\n",
              "      border-right-color: var(--fill-color);\n",
              "    }\n",
              "    40% {\n",
              "      border-color: transparent;\n",
              "      border-right-color: var(--fill-color);\n",
              "      border-top-color: var(--fill-color);\n",
              "    }\n",
              "    60% {\n",
              "      border-color: transparent;\n",
              "      border-right-color: var(--fill-color);\n",
              "    }\n",
              "    80% {\n",
              "      border-color: transparent;\n",
              "      border-right-color: var(--fill-color);\n",
              "      border-bottom-color: var(--fill-color);\n",
              "    }\n",
              "    90% {\n",
              "      border-color: transparent;\n",
              "      border-bottom-color: var(--fill-color);\n",
              "    }\n",
              "  }\n",
              "</style>\n",
              "\n",
              "      <script>\n",
              "        async function quickchart(key) {\n",
              "          const quickchartButtonEl =\n",
              "            document.querySelector('#' + key + ' button');\n",
              "          quickchartButtonEl.disabled = true;  // To prevent multiple clicks.\n",
              "          quickchartButtonEl.classList.add('colab-df-spinner');\n",
              "          try {\n",
              "            const charts = await google.colab.kernel.invokeFunction(\n",
              "                'suggestCharts', [key], {});\n",
              "          } catch (error) {\n",
              "            console.error('Error during call to suggestCharts:', error);\n",
              "          }\n",
              "          quickchartButtonEl.classList.remove('colab-df-spinner');\n",
              "          quickchartButtonEl.classList.add('colab-df-quickchart-complete');\n",
              "        }\n",
              "        (() => {\n",
              "          let quickchartButtonEl =\n",
              "            document.querySelector('#df-6802c5d3-e4f2-4ac4-8717-8797410bbfd8 button');\n",
              "          quickchartButtonEl.style.display =\n",
              "            google.colab.kernel.accessAllowed ? 'block' : 'none';\n",
              "        })();\n",
              "      </script>\n",
              "    </div>\n",
              "\n",
              "  <div id=\"id_73bdceb1-f02b-4bd8-b5e4-834fcb2e3a40\">\n",
              "    <style>\n",
              "      .colab-df-generate {\n",
              "        background-color: #E8F0FE;\n",
              "        border: none;\n",
              "        border-radius: 50%;\n",
              "        cursor: pointer;\n",
              "        display: none;\n",
              "        fill: #1967D2;\n",
              "        height: 32px;\n",
              "        padding: 0 0 0 0;\n",
              "        width: 32px;\n",
              "      }\n",
              "\n",
              "      .colab-df-generate:hover {\n",
              "        background-color: #E2EBFA;\n",
              "        box-shadow: 0px 1px 2px rgba(60, 64, 67, 0.3), 0px 1px 3px 1px rgba(60, 64, 67, 0.15);\n",
              "        fill: #174EA6;\n",
              "      }\n",
              "\n",
              "      [theme=dark] .colab-df-generate {\n",
              "        background-color: #3B4455;\n",
              "        fill: #D2E3FC;\n",
              "      }\n",
              "\n",
              "      [theme=dark] .colab-df-generate:hover {\n",
              "        background-color: #434B5C;\n",
              "        box-shadow: 0px 1px 3px 1px rgba(0, 0, 0, 0.15);\n",
              "        filter: drop-shadow(0px 1px 2px rgba(0, 0, 0, 0.3));\n",
              "        fill: #FFFFFF;\n",
              "      }\n",
              "    </style>\n",
              "    <button class=\"colab-df-generate\" onclick=\"generateWithVariable('df_scripts')\"\n",
              "            title=\"Generate code using this dataframe.\"\n",
              "            style=\"display:none;\">\n",
              "\n",
              "  <svg xmlns=\"http://www.w3.org/2000/svg\" height=\"24px\"viewBox=\"0 0 24 24\"\n",
              "       width=\"24px\">\n",
              "    <path d=\"M7,19H8.4L18.45,9,17,7.55,7,17.6ZM5,21V16.75L18.45,3.32a2,2,0,0,1,2.83,0l1.4,1.43a1.91,1.91,0,0,1,.58,1.4,1.91,1.91,0,0,1-.58,1.4L9.25,21ZM18.45,9,17,7.55Zm-12,3A5.31,5.31,0,0,0,4.9,8.1,5.31,5.31,0,0,0,1,6.5,5.31,5.31,0,0,0,4.9,4.9,5.31,5.31,0,0,0,6.5,1,5.31,5.31,0,0,0,8.1,4.9,5.31,5.31,0,0,0,12,6.5,5.46,5.46,0,0,0,6.5,12Z\"/>\n",
              "  </svg>\n",
              "    </button>\n",
              "    <script>\n",
              "      (() => {\n",
              "      const buttonEl =\n",
              "        document.querySelector('#id_73bdceb1-f02b-4bd8-b5e4-834fcb2e3a40 button.colab-df-generate');\n",
              "      buttonEl.style.display =\n",
              "        google.colab.kernel.accessAllowed ? 'block' : 'none';\n",
              "\n",
              "      buttonEl.onclick = () => {\n",
              "        google.colab.notebook.generateWithVariable('df_scripts');\n",
              "      }\n",
              "      })();\n",
              "    </script>\n",
              "  </div>\n",
              "\n",
              "    </div>\n",
              "  </div>\n"
            ],
            "application/vnd.google.colaboratory.intrinsic+json": {
              "type": "dataframe",
              "variable_name": "df_scripts",
              "summary": "{\n  \"name\": \"df_scripts\",\n  \"rows\": 12,\n  \"fields\": [\n    {\n      \"column\": \"personaje\",\n      \"properties\": {\n        \"dtype\": \"category\",\n        \"num_unique_values\": 3,\n        \"samples\": [\n          \"Jefe de los Minisupers\",\n          \"Apu\",\n          \"Homer\"\n        ],\n        \"semantic_type\": \"\",\n        \"description\": \"\"\n      }\n    },\n    {\n      \"column\": \"min\",\n      \"properties\": {\n        \"dtype\": \"category\",\n        \"num_unique_values\": 3,\n        \"samples\": [\n          \"14\",\n          \"15\",\n          \"16\"\n        ],\n        \"semantic_type\": \"\",\n        \"description\": \"\"\n      }\n    },\n    {\n      \"column\": \"seg\",\n      \"properties\": {\n        \"dtype\": \"string\",\n        \"num_unique_values\": 12,\n        \"samples\": [\n          \"29\",\n          \"2\",\n          \"49\"\n        ],\n        \"semantic_type\": \"\",\n        \"description\": \"\"\n      }\n    },\n    {\n      \"column\": \"texto\",\n      \"properties\": {\n        \"dtype\": \"string\",\n        \"num_unique_values\": 11,\n        \"samples\": [\n          \"\\u00bfEst\\u00e1 seguro?\",\n          \"Pod\\u00e9is hacerme tres preguntas.\",\n          \"Pero.\"\n        ],\n        \"semantic_type\": \"\",\n        \"description\": \"\"\n      }\n    },\n    {\n      \"column\": \"indices\",\n      \"properties\": {\n        \"dtype\": \"string\",\n        \"num_unique_values\": 12,\n        \"samples\": [\n          [\n            456,\n            475\n          ],\n          [\n            400,\n            455\n          ],\n          [\n            0,\n            63\n          ]\n        ],\n        \"semantic_type\": \"\",\n        \"description\": \"\"\n      }\n    }\n  ]\n}"
            }
          },
          "metadata": {},
          "execution_count": 19
        }
      ]
    },
    {
      "cell_type": "markdown",
      "source": [
        "**Si queremos limitar a personajes específicos, podemos usar una lista dentro del patrón.**\n"
      ],
      "metadata": {
        "id": "TTRRAhc8PBHZ"
      }
    },
    {
      "cell_type": "code",
      "source": [
        "re.findall(r\"\\((?:Homer|Apu)\\) \\d\\d'\\d{0,2}'{0,2}\", texto)\n"
      ],
      "metadata": {
        "colab": {
          "base_uri": "https://localhost:8080/"
        },
        "id": "eSnAhuVwO9ZY",
        "outputId": "4b59b152-ede5-4ba5-fd4d-b5c92067a0f0"
      },
      "execution_count": null,
      "outputs": [
        {
          "output_type": "execute_result",
          "data": {
            "text/plain": [
              "[\"(Apu) 14'58''\",\n",
              " \"(Homer) 15'05''\",\n",
              " \"(Homer) 15'22''\",\n",
              " \"(Homer) 15'41''\",\n",
              " \"(Apu) 16'11''\",\n",
              " \"(Apu) 16'29''\"]"
            ]
          },
          "metadata": {},
          "execution_count": 21
        }
      ]
    },
    {
      "cell_type": "markdown",
      "source": [
        "**Finalmente, podemos reemplazar texto.**\n",
        "\n",
        "- Cambiar lo que está dentro de paréntesis por “nombre:”  \n",
        "- Cambiar frases específicas por otras.\n"
      ],
      "metadata": {
        "id": "AJ4KDdyRPNWb"
      }
    },
    {
      "cell_type": "code",
      "source": [
        "print(re.sub(r\"\\((.*)\\)\", r\"\\g<1>:\", texto))\n"
      ],
      "metadata": {
        "colab": {
          "base_uri": "https://localhost:8080/"
        },
        "id": "Z8p4iLxIO9Wz",
        "outputId": "38944f18-7f1c-467f-a8e6-b24c5e847337"
      },
      "execution_count": null,
      "outputs": [
        {
          "output_type": "stream",
          "name": "stdout",
          "text": [
            "Jefe de los Minisupers: 14'49'' Podéis hacerme tres preguntas.\n",
            "Apu: 14'58'' Qué bueno, porque sólo necesito una.\n",
            "Homer: 15'05'' ¿Usted es el Jefe de los Minisupers?\n",
            "Jefe de los Minisupers: 15'13'' Así es.\n",
            "Homer: 15'22'' ¿Usted?\n",
            "Jefe de los Minisupers: 15'38'' Así es.\n",
            "Homer: 15'41'' ¿Está seguro?\n",
            "Jefe de los Minisupers: 16' Sí. Espero que los haya iluminado.\n",
            "Apu: 16'11'' Pero tengo que...\n",
            "Jefe de los Minisupers: 16'2'' Gracias. Vuelva pronto.\n",
            "Apu: 16'29'' Pero.\n",
            "Jefe de los Minisupers: 16'33'' Graciaaaaas. Vuelva pronto.\n"
          ]
        }
      ]
    },
    {
      "cell_type": "code",
      "source": [
        "print(re.sub(r\"Jefe de los Minisupers\", \"PALABRAS SANTAS\", texto))"
      ],
      "metadata": {
        "colab": {
          "base_uri": "https://localhost:8080/"
        },
        "id": "x080CB7dO9T_",
        "outputId": "d891f6e6-0f40-43be-c8c1-8cbd280c7234"
      },
      "execution_count": null,
      "outputs": [
        {
          "output_type": "stream",
          "name": "stdout",
          "text": [
            "(PALABRAS SANTAS) 14'49'' Podéis hacerme tres preguntas.\n",
            "(Apu) 14'58'' Qué bueno, porque sólo necesito una.\n",
            "(Homer) 15'05'' ¿Usted es el PALABRAS SANTAS?\n",
            "(PALABRAS SANTAS) 15'13'' Así es.\n",
            "(Homer) 15'22'' ¿Usted?\n",
            "(PALABRAS SANTAS) 15'38'' Así es.\n",
            "(Homer) 15'41'' ¿Está seguro?\n",
            "(PALABRAS SANTAS) 16' Sí. Espero que los haya iluminado.\n",
            "(Apu) 16'11'' Pero tengo que...\n",
            "(PALABRAS SANTAS) 16'2'' Gracias. Vuelva pronto.\n",
            "(Apu) 16'29'' Pero.\n",
            "(PALABRAS SANTAS) 16'33'' Graciaaaaas. Vuelva pronto.\n"
          ]
        }
      ]
    },
    {
      "cell_type": "markdown",
      "source": [
        "### Greedy vs Non-Greedy\n",
        "\n",
        "**Ahora veamos cómo funcionan las búsquedas “codiciosas” y “no codiciosas”.**\n",
        "\n",
        "- Una búsqueda *greedy* (`.*`) trata de abarcar el mayor texto posible.  \n",
        "- Una búsqueda *non-greedy* (`.*?`) se detiene en la primera coincidencia que encuentra.\n",
        "\n",
        "Esto es útil, por ejemplo, para extraer todas las **preguntas** de un texto.\n"
      ],
      "metadata": {
        "id": "xQuTKpp-alHb"
      }
    },
    {
      "cell_type": "code",
      "source": [],
      "metadata": {
        "id": "gDiFUlTWJZVx"
      },
      "execution_count": null,
      "outputs": []
    },
    {
      "cell_type": "code",
      "source": [
        "tex = '''¿Primera pregunta? bla bla ¿Segunda pregunta? ¿Hola Mundo?'''\n",
        "print(re.findall(r\"\\¿.*\\?\", tex))   # Greedy\n",
        "print(re.findall(r\"\\¿.*?\\?\", tex))  # Non-Greedy\n"
      ],
      "metadata": {
        "colab": {
          "base_uri": "https://localhost:8080/"
        },
        "id": "uPUjNztYdHNu",
        "outputId": "eeb22b68-9330-49a7-a6a0-60e468af1a74"
      },
      "execution_count": null,
      "outputs": [
        {
          "output_type": "stream",
          "name": "stdout",
          "text": [
            "['¿Primera pregunta? bla bla ¿Segunda pregunta? ¿Hola Mundo?']\n",
            "['¿Primera pregunta?', '¿Segunda pregunta?', '¿Hola Mundo?']\n"
          ]
        }
      ]
    },
    {
      "cell_type": "markdown",
      "source": [
        "### Preprocesamiento de Textos: Normalización\n",
        "\n",
        "**Ahora veamos cómo limpiar el texto.**\n",
        "\n",
        "Podemos usar `re.sub` para reemplazar repeticiones de letras o patrones.  \n",
        "Ejemplo: cambiar `\"aaaalgooo\"` por `\"algo\"`.\n"
      ],
      "metadata": {
        "id": "iPvsmPjCbLKO"
      }
    },
    {
      "cell_type": "code",
      "source": [
        "textos = re.sub(r\"a+\",\"a\",texto)\n",
        "print(textos)\n"
      ],
      "metadata": {
        "colab": {
          "base_uri": "https://localhost:8080/"
        },
        "id": "zZlWA2LGapPL",
        "outputId": "43e478e6-a8db-447c-af11-481ad08a7e95"
      },
      "execution_count": null,
      "outputs": [
        {
          "output_type": "stream",
          "name": "stdout",
          "text": [
            "(Jefe de los Minisupers) 14'49'' Podéis hacerme tres preguntas.\n",
            "(Apu) 14'58'' Qué bueno, porque sólo necesito una.\n",
            "(Homer) 15'05'' ¿Usted es el Jefe de los Minisupers?\n",
            "(Jefe de los Minisupers) 15'13'' Así es.\n",
            "(Homer) 15'22'' ¿Usted?\n",
            "(Jefe de los Minisupers) 15'38'' Así es.\n",
            "(Homer) 15'41'' ¿Está seguro?\n",
            "(Jefe de los Minisupers) 16' Sí. Espero que los haya iluminado.\n",
            "(Apu) 16'11'' Pero tengo que...\n",
            "(Jefe de los Minisupers) 16'2'' Gracias. Vuelva pronto.\n",
            "(Apu) 16'29'' Pero.\n",
            "(Jefe de los Minisupers) 16'33'' Gracias. Vuelva pronto.\n"
          ]
        }
      ]
    },
    {
      "cell_type": "markdown",
      "source": [
        "### Tokenización de palabras\n",
        "\n",
        "**Ahora vamos a dividir el texto en piezas más pequeñas llamadas *tokens*.**\n",
        "\n",
        "Los tokens pueden ser palabras, números, signos de puntuación o incluso emoticones.\n"
      ],
      "metadata": {
        "id": "7mXSpLbwbSS8"
      }
    },
    {
      "cell_type": "code",
      "source": [
        "tokens = re.split(r\"\\W+\", textos)\n",
        "print(\"Hay\", len(tokens), \"tokens\")\n",
        "pd.Series(tokens).value_counts()\n"
      ],
      "metadata": {
        "colab": {
          "base_uri": "https://localhost:8080/",
          "height": 1000
        },
        "id": "Dfom1viQapMz",
        "outputId": "ad901141-f1da-43e1-a1da-49425fcc49bb"
      },
      "execution_count": null,
      "outputs": [
        {
          "output_type": "stream",
          "name": "stdout",
          "text": [
            "Hay 95 tokens\n"
          ]
        },
        {
          "output_type": "execute_result",
          "data": {
            "text/plain": [
              "los           8\n",
              "de            7\n",
              "Jefe          7\n",
              "Minisupers    7\n",
              "15            5\n",
              "16            5\n",
              "Apu           3\n",
              "Homer         3\n",
              "es            3\n",
              "Gracias       2\n",
              "Así           2\n",
              "Usted         2\n",
              "que           2\n",
              "14            2\n",
              "              2\n",
              "Pero          2\n",
              "Vuelva        2\n",
              "pronto        2\n",
              "preguntas     1\n",
              "hacerme       1\n",
              "tres          1\n",
              "Podéis        1\n",
              "49            1\n",
              "bueno         1\n",
              "Qué           1\n",
              "58            1\n",
              "sólo          1\n",
              "05            1\n",
              "necesito      1\n",
              "una           1\n",
              "porque        1\n",
              "Está          1\n",
              "41            1\n",
              "38            1\n",
              "22            1\n",
              "13            1\n",
              "el            1\n",
              "Sí            1\n",
              "seguro        1\n",
              "11            1\n",
              "iluminado     1\n",
              "haya          1\n",
              "Espero        1\n",
              "2             1\n",
              "tengo         1\n",
              "29            1\n",
              "33            1\n",
              "Name: count, dtype: int64"
            ],
            "text/html": [
              "<div>\n",
              "<style scoped>\n",
              "    .dataframe tbody tr th:only-of-type {\n",
              "        vertical-align: middle;\n",
              "    }\n",
              "\n",
              "    .dataframe tbody tr th {\n",
              "        vertical-align: top;\n",
              "    }\n",
              "\n",
              "    .dataframe thead th {\n",
              "        text-align: right;\n",
              "    }\n",
              "</style>\n",
              "<table border=\"1\" class=\"dataframe\">\n",
              "  <thead>\n",
              "    <tr style=\"text-align: right;\">\n",
              "      <th></th>\n",
              "      <th>count</th>\n",
              "    </tr>\n",
              "  </thead>\n",
              "  <tbody>\n",
              "    <tr>\n",
              "      <th>los</th>\n",
              "      <td>8</td>\n",
              "    </tr>\n",
              "    <tr>\n",
              "      <th>de</th>\n",
              "      <td>7</td>\n",
              "    </tr>\n",
              "    <tr>\n",
              "      <th>Jefe</th>\n",
              "      <td>7</td>\n",
              "    </tr>\n",
              "    <tr>\n",
              "      <th>Minisupers</th>\n",
              "      <td>7</td>\n",
              "    </tr>\n",
              "    <tr>\n",
              "      <th>15</th>\n",
              "      <td>5</td>\n",
              "    </tr>\n",
              "    <tr>\n",
              "      <th>16</th>\n",
              "      <td>5</td>\n",
              "    </tr>\n",
              "    <tr>\n",
              "      <th>Apu</th>\n",
              "      <td>3</td>\n",
              "    </tr>\n",
              "    <tr>\n",
              "      <th>Homer</th>\n",
              "      <td>3</td>\n",
              "    </tr>\n",
              "    <tr>\n",
              "      <th>es</th>\n",
              "      <td>3</td>\n",
              "    </tr>\n",
              "    <tr>\n",
              "      <th>Gracias</th>\n",
              "      <td>2</td>\n",
              "    </tr>\n",
              "    <tr>\n",
              "      <th>Así</th>\n",
              "      <td>2</td>\n",
              "    </tr>\n",
              "    <tr>\n",
              "      <th>Usted</th>\n",
              "      <td>2</td>\n",
              "    </tr>\n",
              "    <tr>\n",
              "      <th>que</th>\n",
              "      <td>2</td>\n",
              "    </tr>\n",
              "    <tr>\n",
              "      <th>14</th>\n",
              "      <td>2</td>\n",
              "    </tr>\n",
              "    <tr>\n",
              "      <th></th>\n",
              "      <td>2</td>\n",
              "    </tr>\n",
              "    <tr>\n",
              "      <th>Pero</th>\n",
              "      <td>2</td>\n",
              "    </tr>\n",
              "    <tr>\n",
              "      <th>Vuelva</th>\n",
              "      <td>2</td>\n",
              "    </tr>\n",
              "    <tr>\n",
              "      <th>pronto</th>\n",
              "      <td>2</td>\n",
              "    </tr>\n",
              "    <tr>\n",
              "      <th>preguntas</th>\n",
              "      <td>1</td>\n",
              "    </tr>\n",
              "    <tr>\n",
              "      <th>hacerme</th>\n",
              "      <td>1</td>\n",
              "    </tr>\n",
              "    <tr>\n",
              "      <th>tres</th>\n",
              "      <td>1</td>\n",
              "    </tr>\n",
              "    <tr>\n",
              "      <th>Podéis</th>\n",
              "      <td>1</td>\n",
              "    </tr>\n",
              "    <tr>\n",
              "      <th>49</th>\n",
              "      <td>1</td>\n",
              "    </tr>\n",
              "    <tr>\n",
              "      <th>bueno</th>\n",
              "      <td>1</td>\n",
              "    </tr>\n",
              "    <tr>\n",
              "      <th>Qué</th>\n",
              "      <td>1</td>\n",
              "    </tr>\n",
              "    <tr>\n",
              "      <th>58</th>\n",
              "      <td>1</td>\n",
              "    </tr>\n",
              "    <tr>\n",
              "      <th>sólo</th>\n",
              "      <td>1</td>\n",
              "    </tr>\n",
              "    <tr>\n",
              "      <th>05</th>\n",
              "      <td>1</td>\n",
              "    </tr>\n",
              "    <tr>\n",
              "      <th>necesito</th>\n",
              "      <td>1</td>\n",
              "    </tr>\n",
              "    <tr>\n",
              "      <th>una</th>\n",
              "      <td>1</td>\n",
              "    </tr>\n",
              "    <tr>\n",
              "      <th>porque</th>\n",
              "      <td>1</td>\n",
              "    </tr>\n",
              "    <tr>\n",
              "      <th>Está</th>\n",
              "      <td>1</td>\n",
              "    </tr>\n",
              "    <tr>\n",
              "      <th>41</th>\n",
              "      <td>1</td>\n",
              "    </tr>\n",
              "    <tr>\n",
              "      <th>38</th>\n",
              "      <td>1</td>\n",
              "    </tr>\n",
              "    <tr>\n",
              "      <th>22</th>\n",
              "      <td>1</td>\n",
              "    </tr>\n",
              "    <tr>\n",
              "      <th>13</th>\n",
              "      <td>1</td>\n",
              "    </tr>\n",
              "    <tr>\n",
              "      <th>el</th>\n",
              "      <td>1</td>\n",
              "    </tr>\n",
              "    <tr>\n",
              "      <th>Sí</th>\n",
              "      <td>1</td>\n",
              "    </tr>\n",
              "    <tr>\n",
              "      <th>seguro</th>\n",
              "      <td>1</td>\n",
              "    </tr>\n",
              "    <tr>\n",
              "      <th>11</th>\n",
              "      <td>1</td>\n",
              "    </tr>\n",
              "    <tr>\n",
              "      <th>iluminado</th>\n",
              "      <td>1</td>\n",
              "    </tr>\n",
              "    <tr>\n",
              "      <th>haya</th>\n",
              "      <td>1</td>\n",
              "    </tr>\n",
              "    <tr>\n",
              "      <th>Espero</th>\n",
              "      <td>1</td>\n",
              "    </tr>\n",
              "    <tr>\n",
              "      <th>2</th>\n",
              "      <td>1</td>\n",
              "    </tr>\n",
              "    <tr>\n",
              "      <th>tengo</th>\n",
              "      <td>1</td>\n",
              "    </tr>\n",
              "    <tr>\n",
              "      <th>29</th>\n",
              "      <td>1</td>\n",
              "    </tr>\n",
              "    <tr>\n",
              "      <th>33</th>\n",
              "      <td>1</td>\n",
              "    </tr>\n",
              "  </tbody>\n",
              "</table>\n",
              "</div><br><label><b>dtype:</b> int64</label>"
            ]
          },
          "metadata": {},
          "execution_count": 31
        }
      ]
    },
    {
      "cell_type": "markdown",
      "source": [
        "### Tokenización de oraciones\n",
        "\n",
        "**Ahora aprendamos a dividir el texto en oraciones.**\n",
        "\n",
        "Podemos usar reglas simples con regex o herramientas de `nltk` para hacerlo más preciso.\n"
      ],
      "metadata": {
        "id": "ZQvWsqqobbIU"
      }
    },
    {
      "cell_type": "code",
      "source": [
        "dificil_de_tokenizar = \"Dr. formulate it to me. I don't know how to tokenize this! it's impossible!\"\n",
        "re.split(\"[\\.!]\", dificil_de_tokenizar)\n"
      ],
      "metadata": {
        "colab": {
          "base_uri": "https://localhost:8080/"
        },
        "id": "I-vxP0xuapKb",
        "outputId": "287795a5-5bf2-4e17-dceb-3ea7c7d7844e"
      },
      "execution_count": null,
      "outputs": [
        {
          "output_type": "stream",
          "name": "stderr",
          "text": [
            "<>:2: SyntaxWarning: invalid escape sequence '\\.'\n",
            "<>:2: SyntaxWarning: invalid escape sequence '\\.'\n",
            "/tmp/ipython-input-3869008577.py:2: SyntaxWarning: invalid escape sequence '\\.'\n",
            "  re.split(\"[\\.!]\", dificil_de_tokenizar)\n"
          ]
        },
        {
          "output_type": "execute_result",
          "data": {
            "text/plain": [
              "['Dr',\n",
              " ' formulate it to me',\n",
              " \" I don't know how to tokenize this\",\n",
              " \" it's impossible\",\n",
              " '']"
            ]
          },
          "metadata": {},
          "execution_count": 32
        }
      ]
    },
    {
      "cell_type": "code",
      "source": [
        "import nltk\n",
        "nltk.download('punkt')\n",
        "nltk.download('punkt_tab')\n",
        "from nltk import word_tokenize\n",
        "from nltk import sent_tokenize\n"
      ],
      "metadata": {
        "colab": {
          "base_uri": "https://localhost:8080/"
        },
        "id": "GQzzfrYNcq8r",
        "outputId": "7c21a858-fe95-45aa-f593-0a36e99fc21a"
      },
      "execution_count": null,
      "outputs": [
        {
          "output_type": "stream",
          "name": "stderr",
          "text": [
            "[nltk_data] Downloading package punkt to /root/nltk_data...\n",
            "[nltk_data]   Unzipping tokenizers/punkt.zip.\n",
            "[nltk_data] Downloading package punkt_tab to /root/nltk_data...\n",
            "[nltk_data]   Unzipping tokenizers/punkt_tab.zip.\n"
          ]
        }
      ]
    },
    {
      "cell_type": "code",
      "source": [
        "sent = sent_tokenize(dificil_de_tokenizar)\n",
        "print(sent)\n",
        "word_tokenize(sent[2])"
      ],
      "metadata": {
        "colab": {
          "base_uri": "https://localhost:8080/"
        },
        "id": "G8KpJXhAcejM",
        "outputId": "44886c25-617b-4247-f91b-41445dc0a7fe"
      },
      "execution_count": null,
      "outputs": [
        {
          "output_type": "stream",
          "name": "stdout",
          "text": [
            "['Dr. formulate it to me.', \"I don't know how to tokenize this!\", \"it's impossible!\"]\n"
          ]
        },
        {
          "output_type": "execute_result",
          "data": {
            "text/plain": [
              "['it', \"'s\", 'impossible', '!']"
            ]
          },
          "metadata": {},
          "execution_count": 34
        }
      ]
    },
    {
      "cell_type": "markdown",
      "source": [
        "### Tokenización en español\n",
        "\n",
        "**Ahora probemos con un texto en español.**\n"
      ],
      "metadata": {
        "id": "SzMVd9IgbyMC"
      }
    },
    {
      "cell_type": "code",
      "source": [
        "sents = sent_tokenize(texto, language=\"spanish\")\n",
        "tokens = word_tokenize(textos, language=\"spanish\")"
      ],
      "metadata": {
        "id": "_TkLj_0ucdZ8"
      },
      "execution_count": null,
      "outputs": []
    },
    {
      "cell_type": "code",
      "source": [
        "sents"
      ],
      "metadata": {
        "colab": {
          "base_uri": "https://localhost:8080/"
        },
        "id": "VIECuElcc75U",
        "outputId": "87f4420e-a406-449e-8538-554264945a22"
      },
      "execution_count": null,
      "outputs": [
        {
          "output_type": "execute_result",
          "data": {
            "text/plain": [
              "[\"(Jefe de los Minisupers) 14'49'' Podéis hacerme tres preguntas.\",\n",
              " \"(Apu) 14'58'' Qué bueno, porque sólo necesito una.\",\n",
              " \"(Homer) 15'05'' ¿Usted es el Jefe de los Minisupers?\",\n",
              " \"(Jefe de los Minisupers) 15'13'' Así es.\",\n",
              " \"(Homer) 15'22'' ¿Usted?\",\n",
              " \"(Jefe de los Minisupers) 15'38'' Así es.\",\n",
              " \"(Homer) 15'41'' ¿Está seguro?\",\n",
              " \"(Jefe de los Minisupers) 16' Sí.\",\n",
              " 'Espero que los haya iluminado.',\n",
              " \"(Apu) 16'11'' Pero tengo que...\\n(Jefe de los Minisupers) 16'2'' Gracias.\",\n",
              " 'Vuelva pronto.',\n",
              " \"(Apu) 16'29'' Pero.\",\n",
              " \"(Jefe de los Minisupers) 16'33'' Graciaaaaas.\",\n",
              " 'Vuelva pronto.']"
            ]
          },
          "metadata": {},
          "execution_count": 36
        }
      ]
    },
    {
      "cell_type": "code",
      "source": [
        "tokens"
      ],
      "metadata": {
        "colab": {
          "base_uri": "https://localhost:8080/"
        },
        "id": "WDJ5EFUvc9Qq",
        "outputId": "840f7245-f5eb-4f6c-c4ec-b534c586537c"
      },
      "execution_count": null,
      "outputs": [
        {
          "output_type": "execute_result",
          "data": {
            "text/plain": [
              "['(',\n",
              " 'Jefe',\n",
              " 'de',\n",
              " 'los',\n",
              " 'Minisupers',\n",
              " ')',\n",
              " \"14'49\",\n",
              " \"''\",\n",
              " 'Podéis',\n",
              " 'hacerme',\n",
              " 'tres',\n",
              " 'preguntas',\n",
              " '.',\n",
              " '(',\n",
              " 'Apu',\n",
              " ')',\n",
              " \"14'58\",\n",
              " \"''\",\n",
              " 'Qué',\n",
              " 'bueno',\n",
              " ',',\n",
              " 'porque',\n",
              " 'sólo',\n",
              " 'necesito',\n",
              " 'una',\n",
              " '.',\n",
              " '(',\n",
              " 'Homer',\n",
              " ')',\n",
              " \"15'05\",\n",
              " \"''\",\n",
              " '¿Usted',\n",
              " 'es',\n",
              " 'el',\n",
              " 'Jefe',\n",
              " 'de',\n",
              " 'los',\n",
              " 'Minisupers',\n",
              " '?',\n",
              " '(',\n",
              " 'Jefe',\n",
              " 'de',\n",
              " 'los',\n",
              " 'Minisupers',\n",
              " ')',\n",
              " \"15'13\",\n",
              " \"''\",\n",
              " 'Así',\n",
              " 'es',\n",
              " '.',\n",
              " '(',\n",
              " 'Homer',\n",
              " ')',\n",
              " \"15'22\",\n",
              " \"''\",\n",
              " '¿Usted',\n",
              " '?',\n",
              " '(',\n",
              " 'Jefe',\n",
              " 'de',\n",
              " 'los',\n",
              " 'Minisupers',\n",
              " ')',\n",
              " \"15'38\",\n",
              " \"''\",\n",
              " 'Así',\n",
              " 'es',\n",
              " '.',\n",
              " '(',\n",
              " 'Homer',\n",
              " ')',\n",
              " \"15'41\",\n",
              " \"''\",\n",
              " '¿Está',\n",
              " 'seguro',\n",
              " '?',\n",
              " '(',\n",
              " 'Jefe',\n",
              " 'de',\n",
              " 'los',\n",
              " 'Minisupers',\n",
              " ')',\n",
              " '16',\n",
              " \"'\",\n",
              " 'Sí',\n",
              " '.',\n",
              " 'Espero',\n",
              " 'que',\n",
              " 'los',\n",
              " 'haya',\n",
              " 'iluminado',\n",
              " '.',\n",
              " '(',\n",
              " 'Apu',\n",
              " ')',\n",
              " \"16'11\",\n",
              " \"''\",\n",
              " 'Pero',\n",
              " 'tengo',\n",
              " 'que',\n",
              " '...',\n",
              " '(',\n",
              " 'Jefe',\n",
              " 'de',\n",
              " 'los',\n",
              " 'Minisupers',\n",
              " ')',\n",
              " '16',\n",
              " \"'\",\n",
              " '2',\n",
              " \"''\",\n",
              " 'Gracias',\n",
              " '.',\n",
              " 'Vuelva',\n",
              " 'pronto',\n",
              " '.',\n",
              " '(',\n",
              " 'Apu',\n",
              " ')',\n",
              " \"16'29\",\n",
              " \"''\",\n",
              " 'Pero',\n",
              " '.',\n",
              " '(',\n",
              " 'Jefe',\n",
              " 'de',\n",
              " 'los',\n",
              " 'Minisupers',\n",
              " ')',\n",
              " \"16'33\",\n",
              " \"''\",\n",
              " 'Gracias',\n",
              " '.',\n",
              " 'Vuelva',\n",
              " 'pronto',\n",
              " '.']"
            ]
          },
          "metadata": {},
          "execution_count": 37
        }
      ]
    },
    {
      "cell_type": "code",
      "source": [
        "# ejemplo: añadir espacios antes de \"¿\" para que se tokenice bien\n",
        "textos_retocados = re.sub(r\"¿\", \" ¿ \", textos)\n",
        "tokens = word_tokenize(textos_retocados, language=\"spanish\")\n",
        "tokens\n"
      ],
      "metadata": {
        "colab": {
          "base_uri": "https://localhost:8080/"
        },
        "id": "bef99g08bUcm",
        "outputId": "909fa6c9-0f64-479f-c4d8-97927c0ce38f"
      },
      "execution_count": null,
      "outputs": [
        {
          "output_type": "execute_result",
          "data": {
            "text/plain": [
              "['(',\n",
              " 'Jefe',\n",
              " 'de',\n",
              " 'los',\n",
              " 'Minisupers',\n",
              " ')',\n",
              " \"14'49\",\n",
              " \"''\",\n",
              " 'Podéis',\n",
              " 'hacerme',\n",
              " 'tres',\n",
              " 'preguntas',\n",
              " '.',\n",
              " '(',\n",
              " 'Apu',\n",
              " ')',\n",
              " \"14'58\",\n",
              " \"''\",\n",
              " 'Qué',\n",
              " 'bueno',\n",
              " ',',\n",
              " 'porque',\n",
              " 'sólo',\n",
              " 'necesito',\n",
              " 'una',\n",
              " '.',\n",
              " '(',\n",
              " 'Homer',\n",
              " ')',\n",
              " \"15'05\",\n",
              " \"''\",\n",
              " '¿',\n",
              " 'Usted',\n",
              " 'es',\n",
              " 'el',\n",
              " 'Jefe',\n",
              " 'de',\n",
              " 'los',\n",
              " 'Minisupers',\n",
              " '?',\n",
              " '(',\n",
              " 'Jefe',\n",
              " 'de',\n",
              " 'los',\n",
              " 'Minisupers',\n",
              " ')',\n",
              " \"15'13\",\n",
              " \"''\",\n",
              " 'Así',\n",
              " 'es',\n",
              " '.',\n",
              " '(',\n",
              " 'Homer',\n",
              " ')',\n",
              " \"15'22\",\n",
              " \"''\",\n",
              " '¿',\n",
              " 'Usted',\n",
              " '?',\n",
              " '(',\n",
              " 'Jefe',\n",
              " 'de',\n",
              " 'los',\n",
              " 'Minisupers',\n",
              " ')',\n",
              " \"15'38\",\n",
              " \"''\",\n",
              " 'Así',\n",
              " 'es',\n",
              " '.',\n",
              " '(',\n",
              " 'Homer',\n",
              " ')',\n",
              " \"15'41\",\n",
              " \"''\",\n",
              " '¿',\n",
              " 'Está',\n",
              " 'seguro',\n",
              " '?',\n",
              " '(',\n",
              " 'Jefe',\n",
              " 'de',\n",
              " 'los',\n",
              " 'Minisupers',\n",
              " ')',\n",
              " '16',\n",
              " \"'\",\n",
              " 'Sí',\n",
              " '.',\n",
              " 'Espero',\n",
              " 'que',\n",
              " 'los',\n",
              " 'haya',\n",
              " 'iluminado',\n",
              " '.',\n",
              " '(',\n",
              " 'Apu',\n",
              " ')',\n",
              " \"16'11\",\n",
              " \"''\",\n",
              " 'Pero',\n",
              " 'tengo',\n",
              " 'que',\n",
              " '...',\n",
              " '(',\n",
              " 'Jefe',\n",
              " 'de',\n",
              " 'los',\n",
              " 'Minisupers',\n",
              " ')',\n",
              " '16',\n",
              " \"'\",\n",
              " '2',\n",
              " \"''\",\n",
              " 'Gracias',\n",
              " '.',\n",
              " 'Vuelva',\n",
              " 'pronto',\n",
              " '.',\n",
              " '(',\n",
              " 'Apu',\n",
              " ')',\n",
              " \"16'29\",\n",
              " \"''\",\n",
              " 'Pero',\n",
              " '.',\n",
              " '(',\n",
              " 'Jefe',\n",
              " 'de',\n",
              " 'los',\n",
              " 'Minisupers',\n",
              " ')',\n",
              " \"16'33\",\n",
              " \"''\",\n",
              " 'Gracias',\n",
              " '.',\n",
              " 'Vuelva',\n",
              " 'pronto',\n",
              " '.']"
            ]
          },
          "metadata": {},
          "execution_count": 38
        }
      ]
    },
    {
      "cell_type": "markdown",
      "source": [
        "### Stopwords\n",
        "\n",
        "**Finalmente, eliminemos las palabras vacías o poco informativas.**\n",
        "\n",
        "En español, palabras como *de*, *la*, *y*, *que* se consideran stopwords y se pueden quitar.\n"
      ],
      "metadata": {
        "id": "wpAtiGm3cF3T"
      }
    },
    {
      "cell_type": "code",
      "source": [
        "stoplist"
      ],
      "metadata": {
        "colab": {
          "base_uri": "https://localhost:8080/"
        },
        "id": "LP7WoBC1Lv40",
        "outputId": "1b33a2f5-4808-45e0-a21b-12d70829ecdf"
      },
      "execution_count": null,
      "outputs": [
        {
          "output_type": "execute_result",
          "data": {
            "text/plain": [
              "['de',\n",
              " 'la',\n",
              " 'que',\n",
              " 'el',\n",
              " 'en',\n",
              " 'y',\n",
              " 'a',\n",
              " 'los',\n",
              " 'del',\n",
              " 'se',\n",
              " 'las',\n",
              " 'por',\n",
              " 'un',\n",
              " 'para',\n",
              " 'con',\n",
              " 'no',\n",
              " 'una',\n",
              " 'su',\n",
              " 'al',\n",
              " 'lo',\n",
              " 'como',\n",
              " 'más',\n",
              " 'pero',\n",
              " 'sus',\n",
              " 'le',\n",
              " 'ya',\n",
              " 'o',\n",
              " 'este',\n",
              " 'sí',\n",
              " 'porque',\n",
              " 'esta',\n",
              " 'entre',\n",
              " 'cuando',\n",
              " 'muy',\n",
              " 'sin',\n",
              " 'sobre',\n",
              " 'también',\n",
              " 'me',\n",
              " 'hasta',\n",
              " 'hay',\n",
              " 'donde',\n",
              " 'quien',\n",
              " 'desde',\n",
              " 'todo',\n",
              " 'nos',\n",
              " 'durante',\n",
              " 'todos',\n",
              " 'uno',\n",
              " 'les',\n",
              " 'ni',\n",
              " 'contra',\n",
              " 'otros',\n",
              " 'ese',\n",
              " 'eso',\n",
              " 'ante',\n",
              " 'ellos',\n",
              " 'e',\n",
              " 'esto',\n",
              " 'mí',\n",
              " 'antes',\n",
              " 'algunos',\n",
              " 'qué',\n",
              " 'unos',\n",
              " 'yo',\n",
              " 'otro',\n",
              " 'otras',\n",
              " 'otra',\n",
              " 'él',\n",
              " 'tanto',\n",
              " 'esa',\n",
              " 'estos',\n",
              " 'mucho',\n",
              " 'quienes',\n",
              " 'nada',\n",
              " 'muchos',\n",
              " 'cual',\n",
              " 'poco',\n",
              " 'ella',\n",
              " 'estar',\n",
              " 'estas',\n",
              " 'algunas',\n",
              " 'algo',\n",
              " 'nosotros',\n",
              " 'mi',\n",
              " 'mis',\n",
              " 'tú',\n",
              " 'te',\n",
              " 'ti',\n",
              " 'tu',\n",
              " 'tus',\n",
              " 'ellas',\n",
              " 'nosotras',\n",
              " 'vosotros',\n",
              " 'vosotras',\n",
              " 'os',\n",
              " 'mío',\n",
              " 'mía',\n",
              " 'míos',\n",
              " 'mías',\n",
              " 'tuyo',\n",
              " 'tuya',\n",
              " 'tuyos',\n",
              " 'tuyas',\n",
              " 'suyo',\n",
              " 'suya',\n",
              " 'suyos',\n",
              " 'suyas',\n",
              " 'nuestro',\n",
              " 'nuestra',\n",
              " 'nuestros',\n",
              " 'nuestras',\n",
              " 'vuestro',\n",
              " 'vuestra',\n",
              " 'vuestros',\n",
              " 'vuestras',\n",
              " 'esos',\n",
              " 'esas',\n",
              " 'estoy',\n",
              " 'estás',\n",
              " 'está',\n",
              " 'estamos',\n",
              " 'estáis',\n",
              " 'están',\n",
              " 'esté',\n",
              " 'estés',\n",
              " 'estemos',\n",
              " 'estéis',\n",
              " 'estén',\n",
              " 'estaré',\n",
              " 'estarás',\n",
              " 'estará',\n",
              " 'estaremos',\n",
              " 'estaréis',\n",
              " 'estarán',\n",
              " 'estaría',\n",
              " 'estarías',\n",
              " 'estaríamos',\n",
              " 'estaríais',\n",
              " 'estarían',\n",
              " 'estaba',\n",
              " 'estabas',\n",
              " 'estábamos',\n",
              " 'estabais',\n",
              " 'estaban',\n",
              " 'estuve',\n",
              " 'estuviste',\n",
              " 'estuvo',\n",
              " 'estuvimos',\n",
              " 'estuvisteis',\n",
              " 'estuvieron',\n",
              " 'estuviera',\n",
              " 'estuvieras',\n",
              " 'estuviéramos',\n",
              " 'estuvierais',\n",
              " 'estuvieran',\n",
              " 'estuviese',\n",
              " 'estuvieses',\n",
              " 'estuviésemos',\n",
              " 'estuvieseis',\n",
              " 'estuviesen',\n",
              " 'estando',\n",
              " 'estado',\n",
              " 'estada',\n",
              " 'estados',\n",
              " 'estadas',\n",
              " 'estad',\n",
              " 'he',\n",
              " 'has',\n",
              " 'ha',\n",
              " 'hemos',\n",
              " 'habéis',\n",
              " 'han',\n",
              " 'haya',\n",
              " 'hayas',\n",
              " 'hayamos',\n",
              " 'hayáis',\n",
              " 'hayan',\n",
              " 'habré',\n",
              " 'habrás',\n",
              " 'habrá',\n",
              " 'habremos',\n",
              " 'habréis',\n",
              " 'habrán',\n",
              " 'habría',\n",
              " 'habrías',\n",
              " 'habríamos',\n",
              " 'habríais',\n",
              " 'habrían',\n",
              " 'había',\n",
              " 'habías',\n",
              " 'habíamos',\n",
              " 'habíais',\n",
              " 'habían',\n",
              " 'hube',\n",
              " 'hubiste',\n",
              " 'hubo',\n",
              " 'hubimos',\n",
              " 'hubisteis',\n",
              " 'hubieron',\n",
              " 'hubiera',\n",
              " 'hubieras',\n",
              " 'hubiéramos',\n",
              " 'hubierais',\n",
              " 'hubieran',\n",
              " 'hubiese',\n",
              " 'hubieses',\n",
              " 'hubiésemos',\n",
              " 'hubieseis',\n",
              " 'hubiesen',\n",
              " 'habiendo',\n",
              " 'habido',\n",
              " 'habida',\n",
              " 'habidos',\n",
              " 'habidas',\n",
              " 'soy',\n",
              " 'eres',\n",
              " 'es',\n",
              " 'somos',\n",
              " 'sois',\n",
              " 'son',\n",
              " 'sea',\n",
              " 'seas',\n",
              " 'seamos',\n",
              " 'seáis',\n",
              " 'sean',\n",
              " 'seré',\n",
              " 'serás',\n",
              " 'será',\n",
              " 'seremos',\n",
              " 'seréis',\n",
              " 'serán',\n",
              " 'sería',\n",
              " 'serías',\n",
              " 'seríamos',\n",
              " 'seríais',\n",
              " 'serían',\n",
              " 'era',\n",
              " 'eras',\n",
              " 'éramos',\n",
              " 'erais',\n",
              " 'eran',\n",
              " 'fui',\n",
              " 'fuiste',\n",
              " 'fue',\n",
              " 'fuimos',\n",
              " 'fuisteis',\n",
              " 'fueron',\n",
              " 'fuera',\n",
              " 'fueras',\n",
              " 'fuéramos',\n",
              " 'fuerais',\n",
              " 'fueran',\n",
              " 'fuese',\n",
              " 'fueses',\n",
              " 'fuésemos',\n",
              " 'fueseis',\n",
              " 'fuesen',\n",
              " 'sintiendo',\n",
              " 'sentido',\n",
              " 'sentida',\n",
              " 'sentidos',\n",
              " 'sentidas',\n",
              " 'siente',\n",
              " 'sentid',\n",
              " 'tengo',\n",
              " 'tienes',\n",
              " 'tiene',\n",
              " 'tenemos',\n",
              " 'tenéis',\n",
              " 'tienen',\n",
              " 'tenga',\n",
              " 'tengas',\n",
              " 'tengamos',\n",
              " 'tengáis',\n",
              " 'tengan',\n",
              " 'tendré',\n",
              " 'tendrás',\n",
              " 'tendrá',\n",
              " 'tendremos',\n",
              " 'tendréis',\n",
              " 'tendrán',\n",
              " 'tendría',\n",
              " 'tendrías',\n",
              " 'tendríamos',\n",
              " 'tendríais',\n",
              " 'tendrían',\n",
              " 'tenía',\n",
              " 'tenías',\n",
              " 'teníamos',\n",
              " 'teníais',\n",
              " 'tenían',\n",
              " 'tuve',\n",
              " 'tuviste',\n",
              " 'tuvo',\n",
              " 'tuvimos',\n",
              " 'tuvisteis',\n",
              " 'tuvieron',\n",
              " 'tuviera',\n",
              " 'tuvieras',\n",
              " 'tuviéramos',\n",
              " 'tuvierais',\n",
              " 'tuvieran',\n",
              " 'tuviese',\n",
              " 'tuvieses',\n",
              " 'tuviésemos',\n",
              " 'tuvieseis',\n",
              " 'tuviesen',\n",
              " 'teniendo',\n",
              " 'tenido',\n",
              " 'tenida',\n",
              " 'tenidos',\n",
              " 'tenidas',\n",
              " 'tened']"
            ]
          },
          "metadata": {},
          "execution_count": 41
        }
      ]
    },
    {
      "cell_type": "code",
      "source": [
        "nltk.download('stopwords')\n",
        "from nltk.corpus import stopwords\n",
        "stoplist = stopwords.words(\"spanish\")\n",
        "palabras = [token.lower() for token in tokens if token.lower() not in stoplist and token.isalpha()]\n",
        "palabras"
      ],
      "metadata": {
        "colab": {
          "base_uri": "https://localhost:8080/"
        },
        "id": "DQ3IgeN0bUYE",
        "outputId": "082195fb-85d9-4b2d-c0fa-ba883383cfb3"
      },
      "execution_count": null,
      "outputs": [
        {
          "output_type": "stream",
          "name": "stderr",
          "text": [
            "[nltk_data] Downloading package stopwords to /root/nltk_data...\n",
            "[nltk_data]   Package stopwords is already up-to-date!\n"
          ]
        },
        {
          "output_type": "execute_result",
          "data": {
            "text/plain": [
              "['jefe',\n",
              " 'minisupers',\n",
              " 'podéis',\n",
              " 'hacerme',\n",
              " 'tres',\n",
              " 'preguntas',\n",
              " 'apu',\n",
              " 'bueno',\n",
              " 'sólo',\n",
              " 'necesito',\n",
              " 'homer',\n",
              " 'usted',\n",
              " 'jefe',\n",
              " 'minisupers',\n",
              " 'jefe',\n",
              " 'minisupers',\n",
              " 'así',\n",
              " 'homer',\n",
              " 'usted',\n",
              " 'jefe',\n",
              " 'minisupers',\n",
              " 'así',\n",
              " 'homer',\n",
              " 'seguro',\n",
              " 'jefe',\n",
              " 'minisupers',\n",
              " 'espero',\n",
              " 'iluminado',\n",
              " 'apu',\n",
              " 'jefe',\n",
              " 'minisupers',\n",
              " 'gracias',\n",
              " 'vuelva',\n",
              " 'pronto',\n",
              " 'apu',\n",
              " 'jefe',\n",
              " 'minisupers',\n",
              " 'gracias',\n",
              " 'vuelva',\n",
              " 'pronto']"
            ]
          },
          "metadata": {},
          "execution_count": 42
        }
      ]
    },
    {
      "cell_type": "markdown",
      "metadata": {
        "id": "roFjWSKgH_ii"
      },
      "source": [
        "## Ejercicio 1\n",
        "### armar un texto que tenga sentido usando las variables a, b, c y d"
      ]
    },
    {
      "cell_type": "code",
      "execution_count": null,
      "metadata": {
        "id": "ViCz2clGIDBX"
      },
      "outputs": [],
      "source": [
        "a = \"xxxxxxxxxxxxxxxx veces \"\n",
        "b = 1000\n",
        "c = \"xxxno puedo soñar xxxxx\"\n",
        "d = \"xlxaxsx xmxixsxmxaxsx xcxoxsxaxs\""
      ]
    },
    {
      "cell_type": "markdown",
      "metadata": {
        "id": "0Z-5EbssJlMf"
      },
      "source": [
        "## Ejercicio 2:\n",
        "### a) cuantas letras hay en la tercer oración?\n",
        "### b) cuantas palabras hay en todo el texto"
      ]
    },
    {
      "cell_type": "code",
      "execution_count": null,
      "metadata": {
        "id": "AOJahA_gJmjd"
      },
      "outputs": [],
      "source": [
        "texto_ej2 = \"Citadme diciendo que me han citado mal. Claro que lo entiendo. Incluso un niño de cinco años podría entenderlo. ¡Que me traigan un niño de cinco años!\""
      ]
    },
    {
      "cell_type": "markdown",
      "metadata": {
        "id": "5Kyl3FBMMQ-1"
      },
      "source": [
        "##  Ejercicio 3\n",
        "### Amar un Regex para extraer todas las fechas mencionadas"
      ]
    },
    {
      "cell_type": "code",
      "execution_count": null,
      "metadata": {
        "id": "Yky1OMbmKxvv"
      },
      "outputs": [],
      "source": [
        "texto_ej3=\"compras de julio: el 02/07 yerba, 5/7/18 azucar y 8/7 cafe. Agosto: 02-08-2018, 15-8-2018 y 29-08 mas yerba \""
      ]
    },
    {
      "cell_type": "markdown",
      "metadata": {
        "id": "P0xAmIgcwrsa"
      },
      "source": [
        "## Ejercicio 4\n",
        "\n",
        "### a) Cuales son las 10 palabras mas frecuentes? no contar efecto de si es mayúscula o minúscula.\n",
        "### b) Cuantas palabras son stopwords? que porcentaje de las palabras son stopwords?\n",
        "### c) Sacar las tíldes (normalización)\n",
        "### d) Pasar los millones a números 1.800 millones -> 1.800.000  (normalización)\n",
        "### e) Extraer los numeros asociados a dolares, pesos y porcentajes\n",
        "### f) Plotear en eje log-log un la frequencia de las palabras vs su ranking: es decir representar en un scatterplot cuantas veces aparece la palabra mas frecuente (ranking=1), cuantas veces la 2da mas frecuentes (ranking=2)..., la n-esima mas frecuente (ranking = n)"
      ]
    },
    {
      "cell_type": "code",
      "execution_count": null,
      "metadata": {
        "id": "2j8vQmOewrsc"
      },
      "outputs": [],
      "source": [
        "texto_ej4='Jueves 29.3.2018 BUENOS AIRES\\n INGRESAR EDICIÓN IMPRESA Suscribirse Onmail\\n   SEGUINOS\\nPORTADA\\t\\tPOLÍTICA\\tMUNDO\\tNACIONAL\\t\\tINFO. GRAL\\t\\tESPECTÁCULOS\\t\\t\\n\\nambito.comJueves 29.3.2018\\n\\nECONOMÍA\\n\\n\\n\\n\\n\\nPOR MARIANA LEIVA.- lunes 26 de Marzo de 2018\\nEl BCRA intervino por séptima rueda consecutiva y el dólar cedió cinco centavos a $ 20,49\\nMariana Leiva \\t\\nMARIANA LEIVA\\n \\nCon un Banco Central presente en la rueda por séptima rueda consecutiva, el dólar inició la semana con nueva baja, al ceder cinco centavos a $ 20,49 en agencias y bancos de la city porteña, de acuerdo al promedio de ámbito.com. \\n\\nEl billete -que anotó su segunda caída consecutiva- se desacopló del segmento mayorista, donde la divisa terminó sin cambios a $ 20,21.\\n\\nDurante la rueda, la moneda estadounidense tuvo un recorrido muy acotado en una rueda en la que el Banco Central volvió a fijar límites al movimiento de los precios. Operadores estimaron que la autoridad monetaria habría vendido unos u$s 100 millones, con lo que en el mes llevaría desembolsado cerca de u$s 1.800 millones. \\n\\nA poco de iniciada la sesión se hizo presente una postura de venta en $ 20,21 efectivizada por el BCRA que señaló el límite superior fijado en la banda de fluctuación del tipo de cambio. La presencia oficial, en este sentido, disuadió desde el arranque presiones sobre los precios que merced a una mayor oferta privada descendieron hasta tocar mínimos en los $ 20,163. Al final del día, sus ventas sumaron u$s 69 millones.\\n\\nLa oferta provino, además, de las liquidaciones de exportadores cerealeros con un promedio u$s 85 millones por día (aumentó 40% que la semana anterior) y también de otros rubros que realimentan la venta de la divisa norteamericana, además de algunos inversores tentados por la tasa de interés en pesos ahora que tienen un dólar con poca oscilación y con un techo de $ 20,4 y un piso de $ 20,2, según puntualizaron de ABC Mercado de Cambios. \\n\\nDesde PR Corredores de Cambio, indicaron que \"el inicio de la semana corta presentó un escenario dominado en forma reiterada por la regulación oficial del tipo de cambio. La estrategia del Banco Central apuntó a dejar sin posibilidad de que los precios del dólar superaran el nivel alcanzado en el cierre de la semana pasada pero sin forzar una nueva caída en su cotización\". El volumen operado descendió un 6,5% a u$s 758 millones.\\n\\n\"La suerte de la evolución del dólar en el cierre de marzo parece estar echada y, dadas las características de las últimas regulaciones oficiales su nivel para el miércoles próximo se anticipa que no estará muy alejado del alcanzado en la fecha, un dato que los mercados de futuros descuentan en su cotización de esta rueda\", agregaron.\\n\\nEn el mercado de dinero entre bancos, el \"call money\" operó estable a un promedio del 25,5% TNA y en \"swaps\" cambiarios se pactaron u$s 148 millones para tomar y/o colocar fondos en pesos mediante el uso de compra-venta de dólares para el martes y el miércoles. Las Lebac en el circuito secundario se operaban al plazo de 23 días a 23,55% TNA, y la de 268 días al 24,9% TNA.\\n\\nEn el Rofex, donde se operaron u$s 1.156 millones, más del 40% se operó para fin de mes a $ 20,215 con una tasa implícita del 9% TNA y el plazo más largo fue julio a $ 21,63 a una tasa del 20,50% TNA. \\n\\nEn la plaza paralela, el blue cayó seis centavos a $ 20,88, según el relevamiento de este medio en cuevas del microcentro porteño. Asimismo, el \"contado con liqui\" bajó 10 centavos a $ 20,19.\\n\\nPor último, las reservas del Banco Central aumentaron este lunes u$s 18 millones, hasta los u$s 60.917 millones.\\nTAGS\\n \\n\\n\\n\\n'"
      ]
    },
    {
      "cell_type": "code",
      "execution_count": null,
      "metadata": {
        "id": "d0oY_qnbSXDY",
        "outputId": "9a5ebd8e-f570-4038-d6f7-c6995fb72e74",
        "colab": {
          "base_uri": "https://localhost:8080/"
        }
      },
      "outputs": [
        {
          "output_type": "stream",
          "name": "stdout",
          "text": [
            "Jueves 29.3.2018 BUENOS AIRES\n",
            " INGRESAR EDICIÓN IMPRESA Suscribirse Onmail\n",
            "   SEGUINOS\n",
            "PORTADA\t\tPOLÍTICA\tMUNDO\tNACIONAL\t\tINFO. GRAL\t\tESPECTÁCULOS\t\t\n",
            "\n",
            "ambito.comJueves 29.3.2018\n",
            "\n",
            "ECONOMÍA\n",
            "\n",
            "\n",
            "\n",
            "\n",
            "\n",
            "POR MARIANA LEIVA.- lunes 26 de Marzo de 2018\n",
            "El BCRA intervino por séptima rueda consecutiva y el dólar cedió cinco centavos a $ 20,49\n",
            "Mariana Leiva \t\n",
            "MARIANA LEIVA\n",
            " \n",
            "Con un Banco Central presente en la rueda por séptima rueda consecutiva, el dólar inició la semana con nueva baja, al ceder cinco centavos a $ 20,49 en agencias y bancos de la city porteña, de acuerdo al promedio de ámbito.com. \n",
            "\n",
            "El billete -que anotó su segunda caída consecutiva- se desacopló del segmento mayorista, donde la divisa terminó sin cambios a $ 20,21.\n",
            "\n",
            "Durante la rueda, la moneda estadounidense tuvo un recorrido muy acotado en una rueda en la que el Banco Central volvió a fijar límites al movimiento de los precios. Operadores estimaron que la autoridad monetaria habría vendido unos u$s 100 millones, con lo que en el mes llevaría desembolsado cerca de u$s 1.800 millones. \n",
            "\n",
            "A poco de iniciada la sesión se hizo presente una postura de venta en $ 20,21 efectivizada por el BCRA que señaló el límite superior fijado en la banda de fluctuación del tipo de cambio. La presencia oficial, en este sentido, disuadió desde el arranque presiones sobre los precios que merced a una mayor oferta privada descendieron hasta tocar mínimos en los $ 20,163. Al final del día, sus ventas sumaron u$s 69 millones.\n",
            "\n",
            "La oferta provino, además, de las liquidaciones de exportadores cerealeros con un promedio u$s 85 millones por día (aumentó 40% que la semana anterior) y también de otros rubros que realimentan la venta de la divisa norteamericana, además de algunos inversores tentados por la tasa de interés en pesos ahora que tienen un dólar con poca oscilación y con un techo de $ 20,4 y un piso de $ 20,2, según puntualizaron de ABC Mercado de Cambios. \n",
            "\n",
            "Desde PR Corredores de Cambio, indicaron que \"el inicio de la semana corta presentó un escenario dominado en forma reiterada por la regulación oficial del tipo de cambio. La estrategia del Banco Central apuntó a dejar sin posibilidad de que los precios del dólar superaran el nivel alcanzado en el cierre de la semana pasada pero sin forzar una nueva caída en su cotización\". El volumen operado descendió un 6,5% a u$s 758 millones.\n",
            "\n",
            "\"La suerte de la evolución del dólar en el cierre de marzo parece estar echada y, dadas las características de las últimas regulaciones oficiales su nivel para el miércoles próximo se anticipa que no estará muy alejado del alcanzado en la fecha, un dato que los mercados de futuros descuentan en su cotización de esta rueda\", agregaron.\n",
            "\n",
            "En el mercado de dinero entre bancos, el \"call money\" operó estable a un promedio del 25,5% TNA y en \"swaps\" cambiarios se pactaron u$s 148 millones para tomar y/o colocar fondos en pesos mediante el uso de compra-venta de dólares para el martes y el miércoles. Las Lebac en el circuito secundario se operaban al plazo de 23 días a 23,55% TNA, y la de 268 días al 24,9% TNA.\n",
            "\n",
            "En el Rofex, donde se operaron u$s 1.156 millones, más del 40% se operó para fin de mes a $ 20,215 con una tasa implícita del 9% TNA y el plazo más largo fue julio a $ 21,63 a una tasa del 20,50% TNA. \n",
            "\n",
            "En la plaza paralela, el blue cayó seis centavos a $ 20,88, según el relevamiento de este medio en cuevas del microcentro porteño. Asimismo, el \"contado con liqui\" bajó 10 centavos a $ 20,19.\n",
            "\n",
            "Por último, las reservas del Banco Central aumentaron este lunes u$s 18 millones, hasta los u$s 60.917 millones.\n",
            "TAGS\n",
            " \n",
            "\n",
            "\n",
            "\n",
            "\n"
          ]
        }
      ],
      "source": [
        "print(texto_ej4)"
      ]
    },
    {
      "cell_type": "markdown",
      "metadata": {
        "id": "qyOxgjKawrsz"
      },
      "source": [
        "## d) pasar los millones a números 1.800 millones -> 1.800.000  (normalización)"
      ]
    },
    {
      "cell_type": "markdown",
      "metadata": {
        "id": "yMNs9g-Twrs1"
      },
      "source": [
        "## e) extraer los numeros asociados a dolares, pesos y porcentajes"
      ]
    }
  ]
}